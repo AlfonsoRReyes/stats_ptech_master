{
 "cells": [
  {
   "cell_type": "markdown",
   "metadata": {
    "toc": "true"
   },
   "source": [
    "# Table of Contents\n",
    " <p><div class=\"lev2 toc-item\"><a href=\"#Modifying-customized_box_plot()\" data-toc-modified-id=\"Modifying-customized_box_plot()-0.1\"><span class=\"toc-item-num\">0.1&nbsp;&nbsp;</span>Modifying customized_box_plot()</a></div><div class=\"lev2 toc-item\"><a href=\"#plotting-one-variable\" data-toc-modified-id=\"plotting-one-variable-0.2\"><span class=\"toc-item-num\">0.2&nbsp;&nbsp;</span>plotting one variable</a></div><div class=\"lev2 toc-item\"><a href=\"#Plotting-two-variables\" data-toc-modified-id=\"Plotting-two-variables-0.3\"><span class=\"toc-item-num\">0.3&nbsp;&nbsp;</span>Plotting two variables</a></div><div class=\"lev2 toc-item\"><a href=\"#Plotting-3-variables\" data-toc-modified-id=\"Plotting-3-variables-0.4\"><span class=\"toc-item-num\">0.4&nbsp;&nbsp;</span>Plotting 3 variables</a></div><div class=\"lev1 toc-item\"><a href=\"#Detecting-outliers\" data-toc-modified-id=\"Detecting-outliers-1\"><span class=\"toc-item-num\">1&nbsp;&nbsp;</span>Detecting outliers</a></div>"
   ]
  },
  {
   "cell_type": "markdown",
   "metadata": {},
   "source": [
    "## Modifying customized_box_plot()"
   ]
  },
  {
   "cell_type": "code",
   "execution_count": 17,
   "metadata": {
    "collapsed": false
   },
   "outputs": [],
   "source": [
    "#: new version of the function\n",
    "#: we will check if the variable provided has outliers with order\n",
    "\n",
    "\n",
    "from __future__ import print_function\n",
    "import matplotlib.pyplot as plt\n",
    "import numpy as np\n",
    "\n",
    "def customized_box_plot(percentiles, xtlabels=None, redraw = True, printdata=False, *args, **kwargs):\n",
    "    \"\"\"\n",
    "    Generates a customized boxplot based on the given percentile values\n",
    "    \"\"\"\n",
    "    xtlabel = list()\n",
    "    fig, ax = plt.subplots()\n",
    "    axes = ax\n",
    "    n_box = len(percentiles)      \n",
    "    \n",
    "    box_plot = axes.boxplot([[-9, -4, 2, 4, 9],]*n_box, *args, **kwargs) \n",
    "    # Creates len(percentiles) no of box plots\n",
    "\n",
    "    min_y, max_y = float('inf'), -float('inf')\n",
    "\n",
    "    for box_no, pdata in enumerate(percentiles):\n",
    "        if xtlabels is None:\n",
    "            xtlabel.append(str(box_no+1))\n",
    "        else:\n",
    "            xtlabel = xtlabels\n",
    "        \n",
    "        if len(pdata) == 6:\n",
    "            #: outlier provided too\n",
    "            (q1_start, q2_start, q3_start, q4_start, q4_end, fliers_xy) = pdata\n",
    "            try:\n",
    "                if len(fliers_xy[0]) != 0:\n",
    "                    print(\"variable already with complete outliers arrays\")\n",
    "            except TypeError:\n",
    "                arr_len = len(fliers_xy) \n",
    "                arr = np.full((1, arr_len), box_no+1, dtype=np.int)\n",
    "                fliers_xy = [arr, fliers_xy]\n",
    "                print(\"outliers arrays being fixed for variable %d\" % box_no)\n",
    "            \n",
    "        elif len(pdata) == 5:\n",
    "            #: only percentiles and no outliers provided\n",
    "            (q1_start, q2_start, q3_start, q4_start, q4_end) = pdata\n",
    "            fliers_xy = None\n",
    "        else:\n",
    "            raise ValueError(\"Percentile arrays for customized_box_plot must have either 5 or 6 values\")\n",
    "        if printdata:\n",
    "            print(percentiles)\n",
    "        # Lower cap\n",
    "        box_plot['caps'][2*box_no].set_ydata([q1_start, q1_start])\n",
    "        # xdata is determined by the width of the box plot\n",
    "\n",
    "        # Lower whiskers\n",
    "        box_plot['whiskers'][2*box_no].set_ydata([q1_start, q2_start])\n",
    "\n",
    "        # Higher cap\n",
    "        box_plot['caps'][2*box_no + 1].set_ydata([q4_end, q4_end])\n",
    "\n",
    "        # Higher whiskers\n",
    "        box_plot['whiskers'][2*box_no + 1].set_ydata([q4_start, q4_end])\n",
    "\n",
    "        # Box\n",
    "        path = box_plot['boxes'][box_no].get_path()\n",
    "        path.vertices[0][1] = q2_start\n",
    "        path.vertices[1][1] = q2_start\n",
    "        path.vertices[2][1] = q4_start\n",
    "        path.vertices[3][1] = q4_start\n",
    "        path.vertices[4][1] = q2_start\n",
    "\n",
    "        # Median\n",
    "        box_plot['medians'][box_no].set_ydata([q3_start, q3_start])\n",
    "\n",
    "        # Outliers\n",
    "        if fliers_xy is not None and len(fliers_xy[0]) != 0:\n",
    "            # If outliers exist\n",
    "            box_plot['fliers'][box_no].set(xdata = fliers_xy[0],\n",
    "                                           ydata = fliers_xy[1])\n",
    "\n",
    "            min_y = min(q1_start, min_y, fliers_xy[1].min())\n",
    "            max_y = max(q4_end, max_y, fliers_xy[1].max())\n",
    "\n",
    "        else:\n",
    "            min_y = min(q1_start, min_y)\n",
    "            max_y = max(q4_end, max_y)\n",
    "\n",
    "        # The y axis is rescaled to fit the new box plot completely with 10% \n",
    "        # of the maximum value at both ends\n",
    "        # print(min_y, max_y)\n",
    "        axes.set_ylim([min_y*1.1, max_y*1.1])\n",
    "    ax.set_xticklabels(xtlabel)\n",
    "\n",
    "    # If redraw is set to true, the canvas is updated.\n",
    "    if redraw:\n",
    "        axes.figure.canvas.draw()\n",
    "    plt.show()\n",
    "    return box_plot"
   ]
  },
  {
   "cell_type": "markdown",
   "metadata": {},
   "source": [
    "## plotting one variable"
   ]
  },
  {
   "cell_type": "code",
   "execution_count": 9,
   "metadata": {
    "collapsed": false
   },
   "outputs": [
    {
     "data": {
      "text/plain": [
       "1"
      ]
     },
     "execution_count": 9,
     "metadata": {},
     "output_type": "execute_result"
    }
   ],
   "source": [
    "var1= [[-1.5101813369410104, 0.20051552516175283, 0.8839713856971805, 1.575970005579948, 3.4881552580734554, \n",
    "        np.array([-1.98329217, -1.91932292,  4.16112339,  4.5,  4.6, 4.7,  5.1,  5.25])]]\n",
    "\n",
    "len(var1)"
   ]
  },
  {
   "cell_type": "code",
   "execution_count": 10,
   "metadata": {
    "collapsed": false
   },
   "outputs": [
    {
     "name": "stdout",
     "output_type": "stream",
     "text": [
      "outliers arrays being fixed for variable 0\n"
     ]
    },
    {
     "data": {
      "image/png": "[encoded data removed]",
      "text/plain": [
       "<matplotlib.figure.Figure at 0x6711730>"
      ]
     },
     "metadata": {},
     "output_type": "display_data"
    }
   ],
   "source": [
    "\n",
    "b = customized_box_plot(var1, redraw=True, notch=0, sym='+', vert=1, whis=1.5)\n"
   ]
  },
  {
   "cell_type": "markdown",
   "metadata": {},
   "source": [
    "## Plotting two variables"
   ]
  },
  {
   "cell_type": "code",
   "execution_count": 11,
   "metadata": {
    "collapsed": false
   },
   "outputs": [
    {
     "data": {
      "text/plain": [
       "2"
      ]
     },
     "execution_count": 11,
     "metadata": {},
     "output_type": "execute_result"
    }
   ],
   "source": [
    "var2 = [\n",
    "    [0.046074393272752909, 1.3760634609664242, 2.6665020489404672, 5.1285508380255065, 10.666501091274366,  \n",
    "     np.array([ 58.02866486,  11.45321818,  22.07822949,  22.45961125,\n",
    "        16.87011061,  20.3233718 ,  15.85607562,  15.41986669,\n",
    "        38.28052858,  12.98513382,  14.98140378,  11.07628   ,\n",
    "        27.91280291,  24.56596929,  19.40586646,  17.63709413,\n",
    "        11.78366448,  15.99032273,  16.39685225,  15.1011541 ,\n",
    "        20.7520012 ,  28.02038221,  15.18711787,  11.77347242,\n",
    "        18.80012143,  18.71984609,  25.33987546,  10.90768046,\n",
    "        22.08223004,  13.47145357,  17.40222801,  11.85771055,\n",
    "        19.25615699,  15.60277387,  13.98971756,  17.78220994,  14.43462277])], \n",
    "    [0.046074393272752909, 1.5246110253179361, 2.7479316437592698, 5.4891446185065549, 11.076279997386985,\n",
    "        np.array([ 11.85771055,  20.7520012 ,  25.33987546,  20.7520012 ,\n",
    "        15.1011541 ,  25.33987546,  22.07822949,  13.47145357,\n",
    "        20.3233718 ,  17.40222801,  22.07822949,  15.41986669,\n",
    "        15.85607562,  22.08223004,  15.85607562,  24.56596929,\n",
    "        22.07822949,  18.80012143,  22.08223004,  13.47145357,\n",
    "        24.56596929,  16.87011061,  13.98971756,  15.1011541 ,\n",
    "        17.63709413,  25.33987546,  12.98513382,  11.85771055,\n",
    "        18.80012143,  19.25615699,  19.25615699,  15.60277387,\n",
    "        22.08223004,  16.39685225,  20.7520012 ,  20.7520012 ,\n",
    "        19.40586646,  28.02038221,  20.3233718 ,  17.78220994,\n",
    "        15.41986669,  11.77347242,  18.71984609,  17.78220994,\n",
    "        22.08223004,  17.63709413,  11.78366448])]]\n",
    "len(var2)"
   ]
  },
  {
   "cell_type": "code",
   "execution_count": 13,
   "metadata": {
    "collapsed": false
   },
   "outputs": [
    {
     "name": "stdout",
     "output_type": "stream",
     "text": [
      "outliers arrays being fixed for variable 0\n",
      "outliers arrays being fixed for variable 1\n"
     ]
    },
    {
     "data": {
      "image/png": "[encoded data removed]",
      "text/plain": [
       "<matplotlib.figure.Figure at 0x681d750>"
      ]
     },
     "metadata": {},
     "output_type": "display_data"
    }
   ],
   "source": [
    "b = customized_box_plot(var2, redraw=True, notch=0, sym='+', vert=1, whis=1.5)"
   ]
  },
  {
   "cell_type": "markdown",
   "metadata": {},
   "source": [
    "## Plotting 3 variables"
   ]
  },
  {
   "cell_type": "code",
   "execution_count": 15,
   "metadata": {
    "collapsed": false
   },
   "outputs": [
    {
     "data": {
      "text/plain": [
       "3"
      ]
     },
     "execution_count": 15,
     "metadata": {},
     "output_type": "execute_result"
    }
   ],
   "source": [
    "var3 = [\n",
    "    [0.0010843233045542845, 0.25565718336819021, 0.65655818225384854, 1.4097895748558775, 3.1381483731475055,\n",
    "     np.array([ 3.85936004,  3.64947577,  3.58858888,  3.92276005,  3.77442565,\n",
    "        3.95079551,  3.85634407,  5.16496041,  3.85936004,  4.76743735,\n",
    "        3.64813252,  3.15551507,  5.12903467,  3.38026   ,  3.60470992,\n",
    "        3.95079551,  3.38026   ,  3.38026   ,  4.76743735,  3.64947577,\n",
    "        4.71882111,  3.64947577,  5.12903467,  3.38026   ,  3.58858888,\n",
    "        3.60470992,  3.30765364,  5.7030546, 7, 8, 9.0 ])], \n",
    "\n",
    "    [-2.2249477265050892, 4.5702758656293687, 7.2478994483455628, 11.263281071715951, 21.053087871065749, \n",
    "      np.array([ 22.02031101,  26.11582744,  21.35240282,  25.03574698, 22.36123611,  \n",
    "                22.08104521,  28.11464668,  22.66492001, 23.33994018,  23.58629287,\n",
    "                24.1, 24.2, 24.3, 24.4, 24.5\n",
    "               ])],\n",
    "\n",
    "    [-0.58468752435062044, 4.8192011234992709, 7.5908768584897182, 11.638280693192987, 21.352402819727644, \n",
    "     np.array([ 22.36123611,  22.08104521,  22.08104521,  22.66492001, 25.03574698,  \n",
    "               23.33994018,  22.08104521,  23.58629287,  26.11582744])]\n",
    "    ]\n",
    "len(var3)"
   ]
  },
  {
   "cell_type": "code",
   "execution_count": 16,
   "metadata": {
    "collapsed": false
   },
   "outputs": [
    {
     "name": "stdout",
     "output_type": "stream",
     "text": [
      "outliers arrays being fixed for variable 0\n",
      "outliers arrays being fixed for variable 1\n",
      "outliers arrays being fixed for variable 2\n"
     ]
    },
    {
     "data": {
      "image/png": "[encoded data removed]",
      "text/plain": [
       "<matplotlib.figure.Figure at 0x6448f50>"
      ]
     },
     "metadata": {},
     "output_type": "display_data"
    }
   ],
   "source": [
    "b = customized_box_plot(var3, redraw=True, notch=0, sym='+', vert=1, whis=1.5)"
   ]
  },
  {
   "cell_type": "markdown",
   "metadata": {},
   "source": [
    "# Detecting outliers"
   ]
  },
  {
   "cell_type": "markdown",
   "metadata": {},
   "source": [
    "http://stackoverflow.com/questions/22354094/pythonic-way-of-detecting-outliers-in-one-dimensional-observation-data"
   ]
  },
  {
   "cell_type": "code",
   "execution_count": 18,
   "metadata": {
    "collapsed": true
   },
   "outputs": [],
   "source": [
    "def is_outlier(points, thresh=3.5):\n",
    "    \"\"\"\n",
    "    Returns a boolean array with True if points are outliers and False \n",
    "    otherwise.\n",
    "\n",
    "    Parameters:\n",
    "    -----------\n",
    "        points : An numobservations by numdimensions array of observations\n",
    "        thresh : The modified z-score to use as a threshold. Observations with\n",
    "            a modified z-score (based on the median absolute deviation) greater\n",
    "            than this value will be classified as outliers.\n",
    "\n",
    "    Returns:\n",
    "    --------\n",
    "        mask : A numobservations-length boolean array.\n",
    "\n",
    "    References:\n",
    "    ----------\n",
    "        Boris Iglewicz and David Hoaglin (1993), \"Volume 16: How to Detect and\n",
    "        Handle Outliers\", The ASQC Basic References in Quality Control:\n",
    "        Statistical Techniques, Edward F. Mykytka, Ph.D., Editor. \n",
    "    \"\"\"\n",
    "    if len(points.shape) == 1:\n",
    "        points = points[:,None]\n",
    "    median = np.median(points, axis=0)\n",
    "    diff = np.sum((points - median)**2, axis=-1)\n",
    "    diff = np.sqrt(diff)\n",
    "    med_abs_deviation = np.median(diff)\n",
    "\n",
    "    modified_z_score = 0.6745 * diff / med_abs_deviation\n",
    "\n",
    "    return modified_z_score > thresh"
   ]
  },
  {
   "cell_type": "code",
   "execution_count": 19,
   "metadata": {
    "collapsed": false
   },
   "outputs": [
    {
     "ename": "NameError",
     "evalue": "name 'data' is not defined",
     "output_type": "error",
     "traceback": [
      "\u001b[0;31m---------------------------------------------------------------------------\u001b[0m",
      "\u001b[0;31mNameError\u001b[0m                                 Traceback (most recent call last)",
      "\u001b[0;32m<ipython-input-19-85e89b19a4b3>\u001b[0m in \u001b[0;36m<module>\u001b[0;34m()\u001b[0m\n\u001b[0;32m----> 1\u001b[0;31m \u001b[0mmask\u001b[0m \u001b[1;33m=\u001b[0m \u001b[0mis_outlier\u001b[0m\u001b[1;33m(\u001b[0m\u001b[0mdata\u001b[0m\u001b[1;33m[\u001b[0m\u001b[1;36m2\u001b[0m\u001b[1;33m]\u001b[0m\u001b[1;33m,\u001b[0m \u001b[1;36m3.65\u001b[0m\u001b[1;33m)\u001b[0m    \u001b[1;31m#: boolean array with outliers\u001b[0m\u001b[1;33m\u001b[0m\u001b[0m\n\u001b[0m",
      "\u001b[0;31mNameError\u001b[0m: name 'data' is not defined"
     ]
    }
   ],
   "source": [
    "mask = is_outlier(data[2], 3.65)    #: boolean array with outliers"
   ]
  },
  {
   "cell_type": "code",
   "execution_count": 361,
   "metadata": {
    "collapsed": false
   },
   "outputs": [
    {
     "data": {
      "text/plain": [
       "array([ 19.4816154 ,  17.7197534 ,  24.21645026,  16.31742435,\n",
       "        10.1848823 ,  21.97692816,  15.0967663 ,  13.72055384,\n",
       "        24.38212717,  21.0524112 ,  15.17149547,  21.3877546 ,\n",
       "        25.12988966,  12.96084902,  23.29446521,  17.33851977,\n",
       "        15.83410668,  17.61323445,  15.29418214,  22.1087928 ,\n",
       "        10.1593045 ,  11.07912624,  20.1676824 ,  13.98339728,\n",
       "        10.38547715,  10.21222151,  30.28459697,  21.78901242,\n",
       "        10.93794542,  19.89847484,  23.65646077,  16.44377819,\n",
       "        14.48816665,  15.07056186,  14.22190308,  11.35971705,\n",
       "        10.0448614 ,  23.62643254,  45.24460726,  19.41745861,  11.82238295])"
      ]
     },
     "execution_count": 361,
     "metadata": {},
     "output_type": "execute_result"
    }
   ],
   "source": [
    "data[2][mask]"
   ]
  },
  {
   "cell_type": "code",
   "execution_count": 355,
   "metadata": {
    "collapsed": false
   },
   "outputs": [
    {
     "data": {
      "text/plain": [
       "41"
      ]
     },
     "execution_count": 355,
     "metadata": {},
     "output_type": "execute_result"
    }
   ],
   "source": [
    "len(data[2][mask])"
   ]
  },
  {
   "cell_type": "raw",
   "metadata": {},
   "source": [
    "2\n",
    "(0.095481794512522644, 1.2848822059247746, 2.4539328010232384, 4.7704192609516696, 9.9816977965245695, (array([ 3.,  3.,  3.,  3.,  3.,  3.,  3.,  3.,  3.,  3.,  3.,  3.,  3.,\n",
    "        3.,  3.,  3.,  3.,  3.,  3.,  3.,  3.,  3.,  3.,  3.,  3.,  3.,\n",
    "        3.,  3.,  3.,  3.,  3.,  3.,  3.,  3.,  3.,  3.,  3.,  3.,  3.,\n",
    "        3.,  3.]), array([ 19.4816154 ,  17.7197534 ,  24.21645026,  16.31742435,\n",
    "        10.1848823 ,  21.97692816,  15.0967663 ,  13.72055384,\n",
    "        24.38212717,  21.0524112 ,  15.17149547,  21.3877546 ,\n",
    "        25.12988966,  12.96084902,  23.29446521,  17.33851977,\n",
    "        15.83410668,  17.61323445,  15.29418214,  22.1087928 ,\n",
    "        10.1593045 ,  11.07912624,  20.1676824 ,  13.98339728,\n",
    "        10.38547715,  10.21222151,  30.28459697,  21.78901242,\n",
    "        10.93794542,  19.89847484,  23.65646077,  16.44377819,\n",
    "        14.48816665,  15.07056186,  14.22190308,  11.35971705,\n",
    "        10.0448614 ,  23.62643254,  45.24460726,  19.41745861,  11.82238295])))"
   ]
  },
  {
   "cell_type": "code",
   "execution_count": 356,
   "metadata": {
    "collapsed": false
   },
   "outputs": [
    {
     "data": {
      "text/plain": [
       "41"
      ]
     },
     "execution_count": 356,
     "metadata": {},
     "output_type": "execute_result"
    }
   ],
   "source": [
    "len(np.array([ 19.4816154 ,  17.7197534 ,  24.21645026,  16.31742435,\n",
    "        10.1848823 ,  21.97692816,  15.0967663 ,  13.72055384,\n",
    "        24.38212717,  21.0524112 ,  15.17149547,  21.3877546 ,\n",
    "        25.12988966,  12.96084902,  23.29446521,  17.33851977,\n",
    "        15.83410668,  17.61323445,  15.29418214,  22.1087928 ,\n",
    "        10.1593045 ,  11.07912624,  20.1676824 ,  13.98339728,\n",
    "        10.38547715,  10.21222151,  30.28459697,  21.78901242,\n",
    "        10.93794542,  19.89847484,  23.65646077,  16.44377819,\n",
    "        14.48816665,  15.07056186,  14.22190308,  11.35971705,\n",
    "        10.0448614 ,  23.62643254,  45.24460726,  19.41745861,  11.82238295]))"
   ]
  },
  {
   "cell_type": "code",
   "execution_count": null,
   "metadata": {
    "collapsed": true
   },
   "outputs": [],
   "source": []
  },
  {
   "cell_type": "code",
   "execution_count": null,
   "metadata": {
    "collapsed": true
   },
   "outputs": [],
   "source": []
  }
 ],
 "metadata": {
  "anaconda-cloud": {},
  "kernelspec": {
   "display_name": "Python [conda env:py-27]",
   "language": "python",
   "name": "conda-env-py-27-py"
  },
  "language_info": {
   "codemirror_mode": {
    "name": "ipython",
    "version": 2
   },
   "file_extension": ".py",
   "mimetype": "text/x-python",
   "name": "python",
   "nbconvert_exporter": "python",
   "pygments_lexer": "ipython2",
   "version": "2.7.12"
  },
  "nav_menu": {},
  "toc": {
   "navigate_menu": true,
   "number_sections": true,
   "sideBar": false,
   "threshold": 6,
   "toc_cell": true,
   "toc_section_display": "block",
   "toc_window_display": true
  },
  "toc_position": {
   "height": "569px",
   "left": "1004px",
   "right": "20px",
   "top": "79px",
   "width": "377px"
  }
 },
 "nbformat": 4,
 "nbformat_minor": 1
}
