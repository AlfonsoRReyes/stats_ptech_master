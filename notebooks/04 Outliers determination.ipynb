{
 "cells": [
  {
   "cell_type": "markdown",
   "metadata": {
    "toc": "true"
   },
   "source": [
    "# Table of Contents\n",
    " <p><div class=\"lev1 toc-item\"><a href=\"#Detecting-outliers\" data-toc-modified-id=\"Detecting-outliers-1\"><span class=\"toc-item-num\">1&nbsp;&nbsp;</span>Detecting outliers</a></div><div class=\"lev2 toc-item\"><a href=\"#A-function-to-detect-outliers\" data-toc-modified-id=\"A-function-to-detect-outliers-1.1\"><span class=\"toc-item-num\">1.1&nbsp;&nbsp;</span>A function to detect outliers</a></div><div class=\"lev1 toc-item\"><a href=\"#Generate-some-random-data\" data-toc-modified-id=\"Generate-some-random-data-2\"><span class=\"toc-item-num\">2&nbsp;&nbsp;</span>Generate some random data</a></div><div class=\"lev1 toc-item\"><a href=\"#Outliers-in-the-normal-distribution\" data-toc-modified-id=\"Outliers-in-the-normal-distribution-3\"><span class=\"toc-item-num\">3&nbsp;&nbsp;</span>Outliers in the normal distribution</a></div><div class=\"lev2 toc-item\"><a href=\"#Outliers-from-the-boxplot-generator\" data-toc-modified-id=\"Outliers-from-the-boxplot-generator-3.1\"><span class=\"toc-item-num\">3.1&nbsp;&nbsp;</span>Outliers from the boxplot generator</a></div><div class=\"lev2 toc-item\"><a href=\"#Outliers-with-threshold=3.5\" data-toc-modified-id=\"Outliers-with-threshold=3.5-3.2\"><span class=\"toc-item-num\">3.2&nbsp;&nbsp;</span>Outliers with threshold=3.5</a></div><div class=\"lev2 toc-item\"><a href=\"#What-threshold-value-do-we-need?\" data-toc-modified-id=\"What-threshold-value-do-we-need?-3.3\"><span class=\"toc-item-num\">3.3&nbsp;&nbsp;</span>What threshold value do we need?</a></div><div class=\"lev1 toc-item\"><a href=\"#Outliers-in-the-LogNormal-distribution\" data-toc-modified-id=\"Outliers-in-the-LogNormal-distribution-4\"><span class=\"toc-item-num\">4&nbsp;&nbsp;</span>Outliers in the LogNormal distribution</a></div><div class=\"lev2 toc-item\"><a href=\"#from-the-boxplot-generator\" data-toc-modified-id=\"from-the-boxplot-generator-4.1\"><span class=\"toc-item-num\">4.1&nbsp;&nbsp;</span>from the boxplot generator</a></div><div class=\"lev2 toc-item\"><a href=\"#with-the-default-threshold,-3.5\" data-toc-modified-id=\"with-the-default-threshold,-3.5-4.2\"><span class=\"toc-item-num\">4.2&nbsp;&nbsp;</span>with the default threshold, <code>3.5</code></a></div><div class=\"lev2 toc-item\"><a href=\"#Finding-the-threshold\" data-toc-modified-id=\"Finding-the-threshold-4.3\"><span class=\"toc-item-num\">4.3&nbsp;&nbsp;</span>Finding the threshold</a></div><div class=\"lev2 toc-item\"><a href=\"#Building-a-loop-to-find-outliers-and-threshold\" data-toc-modified-id=\"Building-a-loop-to-find-outliers-and-threshold-4.4\"><span class=\"toc-item-num\">4.4&nbsp;&nbsp;</span>Building a loop to find outliers and threshold</a></div><div class=\"lev1 toc-item\"><a href=\"#A-function-to-find-a-certain-number-of-outliers\" data-toc-modified-id=\"A-function-to-find-a-certain-number-of-outliers-5\"><span class=\"toc-item-num\">5&nbsp;&nbsp;</span>A function to find a certain number of outliers</a></div><div class=\"lev2 toc-item\"><a href=\"#Write-the-function\" data-toc-modified-id=\"Write-the-function-5.1\"><span class=\"toc-item-num\">5.1&nbsp;&nbsp;</span>Write the function</a></div><div class=\"lev2 toc-item\"><a href=\"#Test-the-function-for-LogNormal\" data-toc-modified-id=\"Test-the-function-for-LogNormal-5.2\"><span class=\"toc-item-num\">5.2&nbsp;&nbsp;</span>Test the function for LogNormal</a></div><div class=\"lev2 toc-item\"><a href=\"#Test-the-function-for-Exponential\" data-toc-modified-id=\"Test-the-function-for-Exponential-5.3\"><span class=\"toc-item-num\">5.3&nbsp;&nbsp;</span>Test the function for Exponential</a></div><div class=\"lev3 toc-item\"><a href=\"#Outliers-from-1.5-IQR\" data-toc-modified-id=\"Outliers-from-1.5-IQR-5.3.1\"><span class=\"toc-item-num\">5.3.1&nbsp;&nbsp;</span>Outliers from <code>1.5 IQR</code></a></div><div class=\"lev3 toc-item\"><a href=\"#Using-z-score-with-a-threshold-of-3.5\" data-toc-modified-id=\"Using-z-score-with-a-threshold-of-3.5-5.3.2\"><span class=\"toc-item-num\">5.3.2&nbsp;&nbsp;</span>Using z-score with a threshold of 3.5</a></div><div class=\"lev3 toc-item\"><a href=\"#Find-the-same-outliers-as-boxplot\" data-toc-modified-id=\"Find-the-same-outliers-as-boxplot-5.3.3\"><span class=\"toc-item-num\">5.3.3&nbsp;&nbsp;</span>Find the same outliers as boxplot</a></div><div class=\"lev1 toc-item\"><a href=\"#Conclusions\" data-toc-modified-id=\"Conclusions-6\"><span class=\"toc-item-num\">6&nbsp;&nbsp;</span>Conclusions</a></div>"
   ]
  },
  {
   "cell_type": "markdown",
   "metadata": {},
   "source": [
    "# Detecting outliers"
   ]
  },
  {
   "cell_type": "markdown",
   "metadata": {},
   "source": [
    "## A function to detect outliers"
   ]
  },
  {
   "cell_type": "markdown",
   "metadata": {},
   "source": [
    "http://stackoverflow.com/questions/22354094/pythonic-way-of-detecting-outliers-in-one-dimensional-observation-data"
   ]
  },
  {
   "cell_type": "code",
   "execution_count": 3,
   "metadata": {
    "collapsed": true
   },
   "outputs": [],
   "source": [
    "def is_outlier(points, thresh=3.5):\n",
    "    \"\"\"\n",
    "    Returns a boolean array with True if points are outliers and False \n",
    "    otherwise.\n",
    "\n",
    "    Parameters:\n",
    "    -----------\n",
    "        points : An numobservations by numdimensions array of observations\n",
    "        thresh : The modified z-score to use as a threshold. Observations with\n",
    "            a modified z-score (based on the median absolute deviation) greater\n",
    "            than this value will be classified as outliers.\n",
    "\n",
    "    Returns:\n",
    "    --------\n",
    "        mask : A numobservations-length boolean array.\n",
    "\n",
    "    References:\n",
    "    ----------\n",
    "        Boris Iglewicz and David Hoaglin (1993), \"Volume 16: How to Detect and\n",
    "        Handle Outliers\", The ASQC Basic References in Quality Control:\n",
    "        Statistical Techniques, Edward F. Mykytka, Ph.D., Editor. \n",
    "    \"\"\"\n",
    "    if len(points.shape) == 1:\n",
    "        points = points[:,None]\n",
    "    median = np.median(points, axis=0)\n",
    "    diff = np.sum((points - median)**2, axis=-1)\n",
    "    diff = np.sqrt(diff)\n",
    "    med_abs_deviation = np.median(diff)\n",
    "\n",
    "    modified_z_score = 0.6745 * diff / med_abs_deviation\n",
    "\n",
    "    return modified_z_score > thresh"
   ]
  },
  {
   "cell_type": "markdown",
   "metadata": {},
   "source": [
    "# Generate some random data"
   ]
  },
  {
   "cell_type": "code",
   "execution_count": 95,
   "metadata": {
    "collapsed": true
   },
   "outputs": [],
   "source": [
    "from __future__ import print_function\n",
    "import numpy as np\n",
    "import matplotlib.pyplot as plt\n",
    "from matplotlib.patches import Polygon\n",
    "\n",
    "\n",
    "# Generate some data from five different probability distributions,\n",
    "# each with different characteristics. We want to play with how an IID\n",
    "# bootstrap resample of the data preserves the distributional\n",
    "# properties of the original sample, and a boxplot is one visual tool\n",
    "# to make this assessment\n",
    "numDists = 5\n",
    "randomDists = ['Normal(1,1)', ' Lognormal(1,1)', 'Exp(1)', 'Gumbel(6,4)',\n",
    "               'Triangular(2,9,11)']\n",
    "N = 500\n",
    "\n",
    "np.random.seed(250)\n",
    "\n",
    "norm = np.random.normal(1, 1, N)\n",
    "logn = np.random.lognormal(1, 1, N)\n",
    "expo = np.random.exponential(1, N)\n",
    "gumb = np.random.gumbel(6, 4, N)\n",
    "tria = np.random.triangular(2, 9, 11, N)\n",
    "\n",
    "# Generate some random indices that we'll use to resample the original data\n",
    "# arrays. For code brevity, just use the same random indices for each array\n",
    "# bootstrapIndices = np.random.random_integers(0, N - 1, N)\n",
    "bootstrapIndices = np.random.randint(0, N-1, N)\n",
    "\n",
    "normBoot = norm[bootstrapIndices]\n",
    "expoBoot = expo[bootstrapIndices]\n",
    "gumbBoot = gumb[bootstrapIndices]\n",
    "lognBoot = logn[bootstrapIndices]\n",
    "triaBoot = tria[bootstrapIndices]\n",
    "\n",
    "data = [norm, normBoot, logn, lognBoot, expo, expoBoot, gumb, gumbBoot,\n",
    "        tria, triaBoot]"
   ]
  },
  {
   "cell_type": "markdown",
   "metadata": {},
   "source": [
    "# Outliers in the normal distribution"
   ]
  },
  {
   "cell_type": "markdown",
   "metadata": {},
   "source": [
    "## Outliers from the boxplot generator\n",
    "This generates outliers as per default value in boxplot, `whis=1.5`.\n",
    "\n",
    "This is the outliers data from boxplot:"
   ]
  },
  {
   "cell_type": "raw",
   "metadata": {},
   "source": [
    "array([-1.71621774, -2.0231389 ,  3.99741747,  3.65833982,  3.87308106])"
   ]
  },
  {
   "cell_type": "markdown",
   "metadata": {},
   "source": [
    "## Outliers with threshold=3.5"
   ]
  },
  {
   "cell_type": "code",
   "execution_count": 99,
   "metadata": {
    "collapsed": false
   },
   "outputs": [],
   "source": [
    "norm = data[0]"
   ]
  },
  {
   "cell_type": "markdown",
   "metadata": {},
   "source": [
    "Data extracted with the default threshold=3.5"
   ]
  },
  {
   "cell_type": "code",
   "execution_count": 100,
   "metadata": {
    "collapsed": false
   },
   "outputs": [
    {
     "data": {
      "text/plain": [
       "array([], dtype=float64)"
      ]
     },
     "execution_count": 100,
     "metadata": {},
     "output_type": "execute_result"
    }
   ],
   "source": [
    "mask = is_outlier(norm)    #: boolean array with outliers\n",
    "norm[mask]"
   ]
  },
  {
   "cell_type": "markdown",
   "metadata": {},
   "source": [
    "__How many outliers?__\n",
    "\n",
    "> None!"
   ]
  },
  {
   "cell_type": "markdown",
   "metadata": {},
   "source": [
    "## What threshold value do we need?"
   ]
  },
  {
   "cell_type": "code",
   "execution_count": 103,
   "metadata": {
    "collapsed": false
   },
   "outputs": [
    {
     "data": {
      "text/plain": [
       "array([-2.0231389 ,  3.99741747])"
      ]
     },
     "execution_count": 103,
     "metadata": {},
     "output_type": "execute_result"
    }
   ],
   "source": [
    "mask = is_outlier(norm, 3)    #: boolean array with outliers\n",
    "norm[mask]"
   ]
  },
  {
   "cell_type": "markdown",
   "metadata": {},
   "source": [
    "> Too few!"
   ]
  },
  {
   "cell_type": "code",
   "execution_count": 104,
   "metadata": {
    "collapsed": false
   },
   "outputs": [
    {
     "data": {
      "text/plain": [
       "array([-1.44563201, -1.28389833,  3.08484642, -1.40075503, -1.4241279 ,\n",
       "       -1.53645618, -1.71621774,  2.92521876, -2.0231389 ,  3.16262969,\n",
       "        3.61505755,  3.18380039,  3.99741747,  2.98251006,  3.53384002,\n",
       "       -1.12572378,  2.96502457,  3.0946063 , -1.15366383,  3.65833982,\n",
       "        3.15641456,  2.97643175,  2.98182184, -1.19618263,  3.09011863,\n",
       "       -1.36191208, -1.08362714,  3.09716204,  3.87308106, -1.30504305,\n",
       "       -1.01643675, -1.3867649 ])"
      ]
     },
     "execution_count": 104,
     "metadata": {},
     "output_type": "execute_result"
    }
   ],
   "source": [
    "mask = is_outlier(norm, 2)    #: boolean array with outliers\n",
    "norm[mask]"
   ]
  },
  {
   "cell_type": "markdown",
   "metadata": {},
   "source": [
    "> Too many!"
   ]
  },
  {
   "cell_type": "markdown",
   "metadata": {},
   "source": [
    "Data being pulled out from the distribution with `threshold=2.725`."
   ]
  },
  {
   "cell_type": "code",
   "execution_count": 101,
   "metadata": {
    "collapsed": false
   },
   "outputs": [
    {
     "data": {
      "text/plain": [
       "array([-1.71621774, -2.0231389 ,  3.99741747,  3.65833982,  3.87308106])"
      ]
     },
     "execution_count": 101,
     "metadata": {},
     "output_type": "execute_result"
    }
   ],
   "source": [
    "mask = is_outlier(norm, 2.725)    #: boolean array with outliers\n",
    "norm[mask]"
   ]
  },
  {
   "cell_type": "markdown",
   "metadata": {},
   "source": [
    "> We can see that by using `threshold=3.5` the outliers in the normal distribution are _none_, while with `2.725` yields the exact same number of outliers generated by boxplot with `whis=1.5`, which is the same as saying `1.5 * IQR`\n",
    "\n",
    "> This tells us that boxplot is very liberal at the moment of generating outliers.\n",
    "\n"
   ]
  },
  {
   "cell_type": "markdown",
   "metadata": {
    "collapsed": true
   },
   "source": [
    "# Outliers in the LogNormal distribution"
   ]
  },
  {
   "cell_type": "markdown",
   "metadata": {},
   "source": [
    "## from the boxplot generator\n",
    "\n",
    "We obtained `45` values when the default values of `whis=1.5` is used.\n",
    "\n",
    "This is the data."
   ]
  },
  {
   "cell_type": "code",
   "execution_count": 106,
   "metadata": {
    "collapsed": false
   },
   "outputs": [
    {
     "name": "stdout",
     "output_type": "stream",
     "text": [
      "45\n",
      "[ 10.63014604  10.71883218  10.75128195  10.83787431  11.01765864\n",
      "  11.0530542   11.14188114  11.20386923  11.64097131  12.25599026\n",
      "  12.72226004  12.76185192  12.90920417  13.29336908  13.34965575\n",
      "  13.52070055  13.56524146  13.77100335  13.77689348  13.78857614\n",
      "  13.80488068  14.07009024  14.518236    14.68222579  14.80216194\n",
      "  14.93714977  14.9757271   15.14414748  15.53305149  15.79019831\n",
      "  16.23283858  16.96749617  17.42765612  17.72415461  18.15055167\n",
      "  18.7588332   19.36354811  19.64187528  22.85929865  24.23580033\n",
      "  26.12290182  26.70876076  26.77229609  26.9281414   32.57269232]\n"
     ]
    }
   ],
   "source": [
    "logn_out = np.array([ 13.34965575,  11.20386923,  26.77229609,  16.23283858,\n",
    "         15.14414748,  13.52070055,  13.29336908,  14.80216194,\n",
    "         14.07009024,  11.0530542 ,  32.57269232,  26.70876076,\n",
    "         12.25599026,  13.77100335,  12.76185192,  15.53305149,\n",
    "         17.72415461,  10.71883218,  11.64097131,  12.72226004,\n",
    "         10.75128195,  13.78857614,  10.83787431,  16.96749617,\n",
    "         13.77689348,  15.79019831,  26.9281414 ,  18.15055167,\n",
    "         18.7588332 ,  14.518236  ,  13.56524146,  11.01765864,\n",
    "         11.14188114,  14.93714977,  14.9757271 ,  10.63014604,\n",
    "         19.36354811,  17.42765612,  26.12290182,  14.68222579,\n",
    "         12.90920417,  22.85929865,  19.64187528,  24.23580033,  13.80488068])\n",
    "\n",
    "\n",
    "print(len(logn_out))\n",
    "print(np.sort(logn_out))"
   ]
  },
  {
   "cell_type": "markdown",
   "metadata": {},
   "source": [
    "## with the default threshold, `3.5`"
   ]
  },
  {
   "cell_type": "markdown",
   "metadata": {},
   "source": [
    "Using the function is_outlier() with the default value of `threshold=1.5`."
   ]
  },
  {
   "cell_type": "code",
   "execution_count": 107,
   "metadata": {
    "collapsed": false
   },
   "outputs": [
    {
     "name": "stdout",
     "output_type": "stream",
     "text": [
      "39\n"
     ]
    },
    {
     "data": {
      "text/plain": [
       "array([ 13.34965575,  11.20386923,  26.77229609,  16.23283858,\n",
       "        15.14414748,  13.52070055,  13.29336908,  14.80216194,\n",
       "        14.07009024,  32.57269232,  26.70876076,  12.25599026,\n",
       "        13.77100335,  12.76185192,  15.53305149,  17.72415461,\n",
       "        11.64097131,  12.72226004,  13.78857614,  16.96749617,\n",
       "        13.77689348,  15.79019831,  26.9281414 ,  18.15055167,\n",
       "        18.7588332 ,  14.518236  ,  13.56524146,  11.14188114,\n",
       "        14.93714977,  14.9757271 ,  19.36354811,  17.42765612,\n",
       "        26.12290182,  14.68222579,  12.90920417,  22.85929865,\n",
       "        19.64187528,  24.23580033,  13.80488068])"
      ]
     },
     "execution_count": 107,
     "metadata": {},
     "output_type": "execute_result"
    }
   ],
   "source": [
    "mask = is_outlier(data[2])    #: boolean array with outliers\n",
    "print(len(data[2][mask]))\n",
    "data[2][mask]"
   ]
  },
  {
   "cell_type": "markdown",
   "metadata": {},
   "source": [
    "> We get only 39 values, which means that the function is being very conservative."
   ]
  },
  {
   "cell_type": "markdown",
   "metadata": {},
   "source": [
    "## Finding the threshold"
   ]
  },
  {
   "cell_type": "markdown",
   "metadata": {},
   "source": [
    "From above, we see that by using `threshold=3.5` we get only 39 outliers."
   ]
  },
  {
   "cell_type": "code",
   "execution_count": 58,
   "metadata": {
    "collapsed": false
   },
   "outputs": [
    {
     "name": "stdout",
     "output_type": "stream",
     "text": [
      "39\n",
      "[ 11.14188114  11.20386923  11.64097131  12.25599026  12.72226004\n",
      "  12.76185192  12.90920417  13.29336908  13.34965575  13.52070055\n",
      "  13.56524146  13.77100335  13.77689348  13.78857614  13.80488068\n",
      "  14.07009024  14.518236    14.68222579  14.80216194  14.93714977\n",
      "  14.9757271   15.14414748  15.53305149  15.79019831  16.23283858\n",
      "  16.96749617  17.42765612  17.72415461  18.15055167  18.7588332\n",
      "  19.36354811  19.64187528  22.85929865  24.23580033  26.12290182\n",
      "  26.70876076  26.77229609  26.9281414   32.57269232]\n"
     ]
    }
   ],
   "source": [
    "mask = is_outlier(data[2], 3.5)    #: boolean array with outliers\n",
    "print(len(data[2][mask]))\n",
    "print(np.sort(data[2][mask]))"
   ]
  },
  {
   "cell_type": "markdown",
   "metadata": {},
   "source": [
    "What threshold value do we need to get 45 outliers?"
   ]
  },
  {
   "cell_type": "markdown",
   "metadata": {},
   "source": [
    "## Building a loop to find outliers and threshold"
   ]
  },
  {
   "cell_type": "code",
   "execution_count": 78,
   "metadata": {
    "collapsed": false
   },
   "outputs": [
    {
     "name": "stdout",
     "output_type": "stream",
     "text": [
      "45 3.311\n",
      "[ 10.63014604  10.71883218  10.75128195  10.83787431  11.01765864\n",
      "  11.0530542   11.14188114  11.20386923  11.64097131  12.25599026\n",
      "  12.72226004  12.76185192  12.90920417  13.29336908  13.34965575\n",
      "  13.52070055  13.56524146  13.77100335  13.77689348  13.78857614\n",
      "  13.80488068  14.07009024  14.518236    14.68222579  14.80216194\n",
      "  14.93714977  14.9757271   15.14414748  15.53305149  15.79019831\n",
      "  16.23283858  16.96749617  17.42765612  17.72415461  18.15055167\n",
      "  18.7588332   19.36354811  19.64187528  22.85929865  24.23580033\n",
      "  26.12290182  26.70876076  26.77229609  26.9281414   32.57269232]\n"
     ]
    }
   ],
   "source": [
    "thr = 3.500\n",
    "eps = 0.001\n",
    "while True:\n",
    "    mask = is_outlier(data[2], thr)    #: boolean array with outliers\n",
    "    count = len(data[2][mask])\n",
    "    # print(count)\n",
    "    thr = thr - eps\n",
    "    if count == 45:\n",
    "        break\n",
    "print(count, thr)      \n",
    "print(np.sort(data[2][mask]))"
   ]
  },
  {
   "cell_type": "markdown",
   "metadata": {},
   "source": [
    "> We obtained __45 outliers__ with a threhold value of __3.311__."
   ]
  },
  {
   "cell_type": "markdown",
   "metadata": {},
   "source": [
    "# A function to find a certain number of outliers"
   ]
  },
  {
   "cell_type": "markdown",
   "metadata": {},
   "source": [
    "## Write the function\n",
    "Based on the loop above we rewrite the code as:"
   ]
  },
  {
   "cell_type": "code",
   "execution_count": 108,
   "metadata": {
    "collapsed": true
   },
   "outputs": [],
   "source": [
    "def find_n_outliers(data, n, threshold=3.5, eps=0.001):\n",
    "    while True:\n",
    "        mask = is_outlier(data, threshold)    #: boolean array with outliers\n",
    "        count = len(data[mask])\n",
    "        # print(count)\n",
    "        threshold = threshold - eps\n",
    "        if count == n:\n",
    "            break\n",
    "    print(count, threshold)      \n",
    "    print(np.sort(data[mask]))"
   ]
  },
  {
   "cell_type": "markdown",
   "metadata": {},
   "source": [
    "## Test the function for LogNormal"
   ]
  },
  {
   "cell_type": "code",
   "execution_count": 109,
   "metadata": {
    "collapsed": false
   },
   "outputs": [
    {
     "name": "stdout",
     "output_type": "stream",
     "text": [
      "45 3.311\n",
      "[ 10.63014604  10.71883218  10.75128195  10.83787431  11.01765864\n",
      "  11.0530542   11.14188114  11.20386923  11.64097131  12.25599026\n",
      "  12.72226004  12.76185192  12.90920417  13.29336908  13.34965575\n",
      "  13.52070055  13.56524146  13.77100335  13.77689348  13.78857614\n",
      "  13.80488068  14.07009024  14.518236    14.68222579  14.80216194\n",
      "  14.93714977  14.9757271   15.14414748  15.53305149  15.79019831\n",
      "  16.23283858  16.96749617  17.42765612  17.72415461  18.15055167\n",
      "  18.7588332   19.36354811  19.64187528  22.85929865  24.23580033\n",
      "  26.12290182  26.70876076  26.77229609  26.9281414   32.57269232]\n"
     ]
    }
   ],
   "source": [
    "find_n_outliers(data[2], 45)"
   ]
  },
  {
   "cell_type": "markdown",
   "metadata": {},
   "source": [
    "## Test the function for Exponential"
   ]
  },
  {
   "cell_type": "markdown",
   "metadata": {},
   "source": [
    "### Outliers from `1.5 IQR`"
   ]
  },
  {
   "cell_type": "code",
   "execution_count": 91,
   "metadata": {
    "collapsed": false
   },
   "outputs": [
    {
     "name": "stdout",
     "output_type": "stream",
     "text": [
      "[ 3.35289481  3.40557258  3.43924036  3.52185724  3.52379525  3.53029566\n",
      "  3.62684076  3.73336056  3.75823679  3.76239879  3.91320399  4.1090784\n",
      "  4.25470651  4.3521881   4.46332529  4.61837801  4.6984617   4.83949345]\n"
     ]
    },
    {
     "data": {
      "text/plain": [
       "18"
      ]
     },
     "execution_count": 91,
     "metadata": {},
     "output_type": "execute_result"
    }
   ],
   "source": [
    "expo = np.array([ 4.6984617 ,  4.1090784 ,  4.3521881 ,  3.76239879,  3.35289481,\n",
    "         3.52379525,  3.75823679,  3.73336056,  3.91320399,  3.52185724,\n",
    "         4.46332529,  4.83949345,  3.43924036,  4.61837801,  3.53029566,\n",
    "         3.40557258,  4.25470651,  3.62684076])\n",
    "\n",
    "print(np.sort(expo))\n",
    "len(expo)"
   ]
  },
  {
   "cell_type": "markdown",
   "metadata": {},
   "source": [
    "> 18 outliers"
   ]
  },
  {
   "cell_type": "markdown",
   "metadata": {},
   "source": [
    "### Using z-score with a threshold of 3.5"
   ]
  },
  {
   "cell_type": "code",
   "execution_count": 92,
   "metadata": {
    "collapsed": false
   },
   "outputs": [
    {
     "name": "stdout",
     "output_type": "stream",
     "text": [
      "0\n"
     ]
    },
    {
     "data": {
      "text/plain": [
       "array([], dtype=float64)"
      ]
     },
     "execution_count": 92,
     "metadata": {},
     "output_type": "execute_result"
    }
   ],
   "source": [
    "mask = is_outlier(expo)    #: boolean array with outliers\n",
    "print(len(expo[mask]))\n",
    "expo[mask]"
   ]
  },
  {
   "cell_type": "markdown",
   "metadata": {},
   "source": [
    "> We get zero outliers. Too conservative!"
   ]
  },
  {
   "cell_type": "markdown",
   "metadata": {},
   "source": [
    "### Find the same outliers as boxplot"
   ]
  },
  {
   "cell_type": "code",
   "execution_count": 93,
   "metadata": {
    "collapsed": false
   },
   "outputs": [
    {
     "name": "stdout",
     "output_type": "stream",
     "text": [
      "18 0.00300000000027\n",
      "[ 3.35289481  3.40557258  3.43924036  3.52185724  3.52379525  3.53029566\n",
      "  3.62684076  3.73336056  3.75823679  3.76239879  3.91320399  4.1090784\n",
      "  4.25470651  4.3521881   4.46332529  4.61837801  4.6984617   4.83949345]\n"
     ]
    }
   ],
   "source": [
    "find_n_outliers(expo, 18)"
   ]
  },
  {
   "cell_type": "markdown",
   "metadata": {},
   "source": [
    "> Now, we get the same outliers as in boxplot.\n",
    "\n",
    "> Notice how small the __threshold__ had to be to produce the same number of outliers as `1.5*IQR`."
   ]
  },
  {
   "cell_type": "markdown",
   "metadata": {},
   "source": [
    "# Conclusions"
   ]
  },
  {
   "cell_type": "markdown",
   "metadata": {},
   "source": [
    "1. A threshold of 3.5 in the z-score Iglewicz-Hoaglin algorithm seems to be __too conservative__ or too high limiting the number of outliers.\n",
    "\n",
    "2. This may cause to include values that are __too extreme__.\n",
    "\n",
    "3. The `threshold` parameter is __not linear__.\n",
    "\n",
    "4. The `threshold` value has __no the same effect on all distributions__; in some a small change in the `threshold` will produce a big production of outliers meanwhile in others the `threshold` will may need to probably go as low as __zero__.\n",
    "\n",
    "5. In those cases, if could be a better option chosing `1.5` times the `IQR`. Will that yield better data?\n",
    "\n",
    "6. In the figure below, we can see why the threshold value needs to be so small to give us the same number of outliers as `1.5*IQR`; the outliers are pretty compressed meanwhile in the _LogNormal_ distribution the outliers are more spread out."
   ]
  },
  {
   "cell_type": "markdown",
   "metadata": {},
   "source": [
    "[](./images/two_distributions_threshold.png)"
   ]
  },
  {
   "cell_type": "markdown",
   "metadata": {},
   "source": [
    "![](./images/two_distributions_threshold.png)"
   ]
  },
  {
   "cell_type": "markdown",
   "metadata": {},
   "source": [
    "> In the next notebook we will explain how we come about the threshold value of `3.5`."
   ]
  },
  {
   "cell_type": "code",
   "execution_count": null,
   "metadata": {
    "collapsed": true
   },
   "outputs": [],
   "source": []
  }
 ],
 "metadata": {
  "anaconda-cloud": {},
  "kernelspec": {
   "display_name": "Python [conda env:py-27]",
   "language": "python",
   "name": "conda-env-py-27-py"
  },
  "language_info": {
   "codemirror_mode": {
    "name": "ipython",
    "version": 2
   },
   "file_extension": ".py",
   "mimetype": "text/x-python",
   "name": "python",
   "nbconvert_exporter": "python",
   "pygments_lexer": "ipython2",
   "version": "2.7.12"
  },
  "nav_menu": {},
  "toc": {
   "navigate_menu": true,
   "number_sections": true,
   "sideBar": false,
   "threshold": 6,
   "toc_cell": true,
   "toc_section_display": "block",
   "toc_window_display": true
  },
  "toc_position": {
   "height": "407px",
   "left": "930px",
   "right": "20px",
   "top": "-2px",
   "width": "364px"
  }
 },
 "nbformat": 4,
 "nbformat_minor": 1
}
