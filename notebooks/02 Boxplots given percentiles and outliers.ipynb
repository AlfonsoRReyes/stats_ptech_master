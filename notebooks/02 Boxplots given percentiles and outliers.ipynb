{
 "cells": [
  {
   "cell_type": "markdown",
   "metadata": {
    "toc": "true"
   },
   "source": [
    "# Table of Contents\n",
    " <p><div class=\"lev1 toc-item\"><a href=\"#Percentiles-and-outliers\" data-toc-modified-id=\"Percentiles-and-outliers-1\"><span class=\"toc-item-num\">1&nbsp;&nbsp;</span>Percentiles and outliers</a></div><div class=\"lev2 toc-item\"><a href=\"#Introduction\" data-toc-modified-id=\"Introduction-1.1\"><span class=\"toc-item-num\">1.1&nbsp;&nbsp;</span>Introduction</a></div><div class=\"lev2 toc-item\"><a href=\"#A-customized_box_plot-function\" data-toc-modified-id=\"A-customized_box_plot-function-1.2\"><span class=\"toc-item-num\">1.2&nbsp;&nbsp;</span>A customized_box_plot function</a></div><div class=\"lev2 toc-item\"><a href=\"#Testing-the-boxplot-function\" data-toc-modified-id=\"Testing-the-boxplot-function-1.3\"><span class=\"toc-item-num\">1.3&nbsp;&nbsp;</span>Testing the boxplot function</a></div><div class=\"lev3 toc-item\"><a href=\"#A-small-sample:-tiny_data\" data-toc-modified-id=\"A-small-sample:-tiny_data-1.3.1\"><span class=\"toc-item-num\">1.3.1&nbsp;&nbsp;</span>A small sample: tiny_data</a></div><div class=\"lev3 toc-item\"><a href=\"#Adding-outliers-to-tiny_data\" data-toc-modified-id=\"Adding-outliers-to-tiny_data-1.3.2\"><span class=\"toc-item-num\">1.3.2&nbsp;&nbsp;</span>Adding outliers to tiny_data</a></div><div class=\"lev3 toc-item\"><a href=\"#Building-a-list-of-percentiles-and-outliers\" data-toc-modified-id=\"Building-a-list-of-percentiles-and-outliers-1.3.3\"><span class=\"toc-item-num\">1.3.3&nbsp;&nbsp;</span>Building a list of percentiles and outliers</a></div><div class=\"lev3 toc-item\"><a href=\"#Plotting-two-variables,-no-outliers\" data-toc-modified-id=\"Plotting-two-variables,-no-outliers-1.3.4\"><span class=\"toc-item-num\">1.3.4&nbsp;&nbsp;</span>Plotting two variables, no outliers</a></div><div class=\"lev3 toc-item\"><a href=\"#Plotting-three-variables-but-with-outliers\" data-toc-modified-id=\"Plotting-three-variables-but-with-outliers-1.3.5\"><span class=\"toc-item-num\">1.3.5&nbsp;&nbsp;</span>Plotting three variables but with outliers</a></div><div class=\"lev3 toc-item\"><a href=\"#Caps-and-whiskers\" data-toc-modified-id=\"Caps-and-whiskers-1.3.6\"><span class=\"toc-item-num\">1.3.6&nbsp;&nbsp;</span>Caps and whiskers</a></div><div class=\"lev1 toc-item\"><a href=\"#Plotting-distributions-and-their-boostraps\" data-toc-modified-id=\"Plotting-distributions-and-their-boostraps-2\"><span class=\"toc-item-num\">2&nbsp;&nbsp;</span>Plotting distributions and their boostraps</a></div><div class=\"lev2 toc-item\"><a href=\"#A-matplotlib-example-to-boxplot-distributions\" data-toc-modified-id=\"A-matplotlib-example-to-boxplot-distributions-2.1\"><span class=\"toc-item-num\">2.1&nbsp;&nbsp;</span>A matplotlib example to boxplot distributions</a></div><div class=\"lev2 toc-item\"><a href=\"#Getting-percentiles-and-outliers-from-the-data\" data-toc-modified-id=\"Getting-percentiles-and-outliers-from-the-data-2.2\"><span class=\"toc-item-num\">2.2&nbsp;&nbsp;</span>Getting percentiles and outliers from the data</a></div><div class=\"lev2 toc-item\"><a href=\"#Dataframes-for-percentiles,-outliers-and-distributions\" data-toc-modified-id=\"Dataframes-for-percentiles,-outliers-and-distributions-2.3\"><span class=\"toc-item-num\">2.3&nbsp;&nbsp;</span>Dataframes for percentiles, outliers and distributions</a></div><div class=\"lev3 toc-item\"><a href=\"#Dataframe-for-percentiles\" data-toc-modified-id=\"Dataframe-for-percentiles-2.3.1\"><span class=\"toc-item-num\">2.3.1&nbsp;&nbsp;</span>Dataframe for percentiles</a></div><div class=\"lev3 toc-item\"><a href=\"#Test:-Getting-percentiles-for-the-normal\" data-toc-modified-id=\"Test:-Getting-percentiles-for-the-normal-2.3.2\"><span class=\"toc-item-num\">2.3.2&nbsp;&nbsp;</span>Test: Getting percentiles for the normal</a></div><div class=\"lev3 toc-item\"><a href=\"#Dataframe-for-the-outliers\" data-toc-modified-id=\"Dataframe-for-the-outliers-2.3.3\"><span class=\"toc-item-num\">2.3.3&nbsp;&nbsp;</span>Dataframe for the outliers</a></div><div class=\"lev3 toc-item\"><a href=\"#Test:-Getting-the-outliers-from-the-dataframe\" data-toc-modified-id=\"Test:-Getting-the-outliers-from-the-dataframe-2.3.4\"><span class=\"toc-item-num\">2.3.4&nbsp;&nbsp;</span>Test: Getting the outliers from the dataframe</a></div><div class=\"lev2 toc-item\"><a href=\"#Dataframe-for-the-distributions-and-bootstraps\" data-toc-modified-id=\"Dataframe-for-the-distributions-and-bootstraps-2.4\"><span class=\"toc-item-num\">2.4&nbsp;&nbsp;</span>Dataframe for the distributions and bootstraps</a></div><div class=\"lev2 toc-item\"><a href=\"#Plotting-the-distributions-(raw-data)-with-boxplot\" data-toc-modified-id=\"Plotting-the-distributions-(raw-data)-with-boxplot-2.5\"><span class=\"toc-item-num\">2.5&nbsp;&nbsp;</span>Plotting the distributions (raw data) with boxplot</a></div><div class=\"lev2 toc-item\"><a href=\"#x-is-the-variable\" data-toc-modified-id=\"x-is-the-variable-2.6\"><span class=\"toc-item-num\">2.6&nbsp;&nbsp;</span><code>x</code> is the variable</a></div><div class=\"lev1 toc-item\"><a href=\"#About-our-normal-distribution\" data-toc-modified-id=\"About-our-normal-distribution-3\"><span class=\"toc-item-num\">3&nbsp;&nbsp;</span>About our normal distribution</a></div><div class=\"lev2 toc-item\"><a href=\"#Histogram-of-the-normal-distribution\" data-toc-modified-id=\"Histogram-of-the-normal-distribution-3.1\"><span class=\"toc-item-num\">3.1&nbsp;&nbsp;</span>Histogram of the normal distribution</a></div><div class=\"lev2 toc-item\"><a href=\"#Significant-values-from-the-normal\" data-toc-modified-id=\"Significant-values-from-the-normal-3.2\"><span class=\"toc-item-num\">3.2&nbsp;&nbsp;</span>Significant values from the normal</a></div><div class=\"lev2 toc-item\"><a href=\"#Skewness-and-Kurtosis\" data-toc-modified-id=\"Skewness-and-Kurtosis-3.3\"><span class=\"toc-item-num\">3.3&nbsp;&nbsp;</span>Skewness and Kurtosis</a></div><div class=\"lev2 toc-item\"><a href=\"#Values-for-a-theoretical-normal\" data-toc-modified-id=\"Values-for-a-theoretical-normal-3.4\"><span class=\"toc-item-num\">3.4&nbsp;&nbsp;</span>Values for a theoretical normal</a></div><div class=\"lev1 toc-item\"><a href=\"#Investigating-the-distributions\" data-toc-modified-id=\"Investigating-the-distributions-4\"><span class=\"toc-item-num\">4&nbsp;&nbsp;</span>Investigating the distributions</a></div><div class=\"lev2 toc-item\"><a href=\"#Finding-the-IQR-for-a-distribution\" data-toc-modified-id=\"Finding-the-IQR-for-a-distribution-4.1\"><span class=\"toc-item-num\">4.1&nbsp;&nbsp;</span>Finding the IQR for a distribution</a></div><div class=\"lev2 toc-item\"><a href=\"#A-function-to-get-percentiles-from-any-distribution\" data-toc-modified-id=\"A-function-to-get-percentiles-from-any-distribution-4.2\"><span class=\"toc-item-num\">4.2&nbsp;&nbsp;</span>A function to get percentiles from any distribution</a></div><div class=\"lev2 toc-item\"><a href=\"#Percentiles-for-the-normal\" data-toc-modified-id=\"Percentiles-for-the-normal-4.3\"><span class=\"toc-item-num\">4.3&nbsp;&nbsp;</span>Percentiles for the <code>normal</code></a></div><div class=\"lev2 toc-item\"><a href=\"#Percentiles-for-the-LogNormal\" data-toc-modified-id=\"Percentiles-for-the-LogNormal-4.4\"><span class=\"toc-item-num\">4.4&nbsp;&nbsp;</span>Percentiles for the <code>LogNormal</code></a></div><div class=\"lev2 toc-item\"><a href=\"#Percentiles-for-the-Exponential\" data-toc-modified-id=\"Percentiles-for-the-Exponential-4.5\"><span class=\"toc-item-num\">4.5&nbsp;&nbsp;</span>Percentiles for the <code>Exponential</code></a></div><div class=\"lev1 toc-item\"><a href=\"#Percentiles-and-Outliers\" data-toc-modified-id=\"Percentiles-and-Outliers-5\"><span class=\"toc-item-num\">5&nbsp;&nbsp;</span>Percentiles and Outliers</a></div><div class=\"lev2 toc-item\"><a href=\"#Extracting-percentiles-and-outliers\" data-toc-modified-id=\"Extracting-percentiles-and-outliers-5.1\"><span class=\"toc-item-num\">5.1&nbsp;&nbsp;</span>Extracting percentiles and outliers</a></div><div class=\"lev2 toc-item\"><a href=\"#A-function:-percentiles-&amp;-outliers-array\" data-toc-modified-id=\"A-function:-percentiles-&amp;-outliers-array-5.2\"><span class=\"toc-item-num\">5.2&nbsp;&nbsp;</span>A function: percentiles &amp; outliers array</a></div><div class=\"lev2 toc-item\"><a href=\"#Plot-percentiles-and-Outliers\" data-toc-modified-id=\"Plot-percentiles-and-Outliers-5.3\"><span class=\"toc-item-num\">5.3&nbsp;&nbsp;</span>Plot percentiles and Outliers</a></div><div class=\"lev2 toc-item\"><a href=\"#Combined-boxplots-for-percentiles-and-distribution\" data-toc-modified-id=\"Combined-boxplots-for-percentiles-and-distribution-5.4\"><span class=\"toc-item-num\">5.4&nbsp;&nbsp;</span>Combined boxplots for percentiles and distribution</a></div><div class=\"lev2 toc-item\"><a href=\"#Plot-any-distribution\" data-toc-modified-id=\"Plot-any-distribution-5.5\"><span class=\"toc-item-num\">5.5&nbsp;&nbsp;</span>Plot any distribution</a></div><div class=\"lev3 toc-item\"><a href=\"#Plot-percentiles/outliers-and-Distributions\" data-toc-modified-id=\"Plot-percentiles/outliers-and-Distributions-5.5.1\"><span class=\"toc-item-num\">5.5.1&nbsp;&nbsp;</span>Plot percentiles/outliers and Distributions</a></div><div class=\"lev2 toc-item\"><a href=\"#Plot-combined-LogNormal\" data-toc-modified-id=\"Plot-combined-LogNormal-5.6\"><span class=\"toc-item-num\">5.6&nbsp;&nbsp;</span>Plot combined LogNormal</a></div><div class=\"lev2 toc-item\"><a href=\"#Plot-combined-exponential\" data-toc-modified-id=\"Plot-combined-exponential-5.7\"><span class=\"toc-item-num\">5.7&nbsp;&nbsp;</span>Plot combined exponential</a></div><div class=\"lev1 toc-item\"><a href=\"#Conclusions\" data-toc-modified-id=\"Conclusions-6\"><span class=\"toc-item-num\">6&nbsp;&nbsp;</span>Conclusions</a></div>"
   ]
  },
  {
   "cell_type": "markdown",
   "metadata": {},
   "source": [
    "# Percentiles and outliers"
   ]
  },
  {
   "cell_type": "markdown",
   "metadata": {},
   "source": [
    "## Introduction\n",
    "\n",
    "The purpose of this is to create and validate a function that can be used to visualize variables and distributions. We are looking for to __(1)__ visualize the variable as a __boxplot__ if we only count with the percentiles and outliers; __(2)__ visualize the whole variable als using the boxplot.\n",
    "\n",
    "\n",
    "\n",
    "We want to compare the boxplot graph and derivated data against calculated data.\n",
    "\n",
    "We will generate distributions and calculate percentiles and later plot them. We would like to know what are the numbers used to draw the box plot besides the percentiles.\n"
   ]
  },
  {
   "cell_type": "markdown",
   "metadata": {},
   "source": [
    "## A customized_box_plot function\n",
    "This is a function that will plot a boxplot given a list of percentiles.\n",
    "\n",
    "It has been improved to accept labels for the variables and error checking and correction if the variable supplied has no plot order in it.\n",
    "\n",
    "Additionally, it can be provided with an outliers array."
   ]
  },
  {
   "cell_type": "code",
   "execution_count": 1,
   "metadata": {
    "collapsed": false
   },
   "outputs": [],
   "source": [
    "# %%writefile stats_funcs.py\n",
    "# improved version of customized_box_plot() from:\n",
    "# http://stackoverflow.com/questions/27214537\n",
    "#: new version of the function\n",
    "#: we will check if the variable provided has outliers with order\n",
    "\n",
    "\n",
    "from __future__ import print_function\n",
    "import matplotlib.pyplot as plt\n",
    "import numpy as np\n",
    "\n",
    "def customized_box_plot(percentiles, xtlabels=None, redraw = True, printdata=False, *args, **kwargs):\n",
    "    \"\"\"\n",
    "    Generates a customized boxplot based on the given percentile values\n",
    "    and outliers array\n",
    "    \"\"\"\n",
    "    ylim_factor = 1.1\n",
    "    xtlabel = list()\n",
    "    fig, ax = plt.subplots()\n",
    "    axes = ax\n",
    "    n_box = len(percentiles)      \n",
    "    \n",
    "    box_plot = axes.boxplot([[-9, -4, 2, 4, 9],]*n_box, *args, **kwargs) \n",
    "    # Creates len(percentiles) no of box plots\n",
    "\n",
    "    min_y, max_y = float('inf'), -float('inf')\n",
    "\n",
    "    for box_no, pdata in enumerate(percentiles):\n",
    "        if xtlabels is None:\n",
    "            xtlabel.append(str(box_no+1))\n",
    "        else:\n",
    "            xtlabel = xtlabels\n",
    "        \n",
    "        if len(pdata) == 6:\n",
    "            #: outlier provided too\n",
    "            (q1_start, q2_start, q3_start, q4_start, q4_end, fliers_xy) = pdata\n",
    "            try:\n",
    "                if len(fliers_xy[0]) != 0:\n",
    "                    print(\"variable already with complete outliers arrays\")\n",
    "            except TypeError:\n",
    "                arr_len = len(fliers_xy) \n",
    "                arr = np.full((1, arr_len), box_no+1, dtype=np.int)\n",
    "                fliers_xy = [arr, fliers_xy]\n",
    "                print(\"outliers arrays being fixed for variable %d\" % box_no)\n",
    "            \n",
    "        elif len(pdata) == 5:\n",
    "            #: only percentiles and no outliers provided\n",
    "            (q1_start, q2_start, q3_start, q4_start, q4_end) = pdata\n",
    "            fliers_xy = None\n",
    "        else:\n",
    "            raise ValueError(\"Percentile arrays for customized_box_plot must have either 5 or 6 values\")\n",
    "        if printdata:\n",
    "            print(percentiles)\n",
    "        # Lower cap\n",
    "        box_plot['caps'][2*box_no].set_ydata([q1_start, q1_start])\n",
    "        # xdata is determined by the width of the box plot\n",
    "\n",
    "        # Lower whiskers\n",
    "        box_plot['whiskers'][2*box_no].set_ydata([q1_start, q2_start])\n",
    "\n",
    "        # Higher cap\n",
    "        box_plot['caps'][2*box_no + 1].set_ydata([q4_end, q4_end])\n",
    "\n",
    "        # Higher whiskers\n",
    "        box_plot['whiskers'][2*box_no + 1].set_ydata([q4_start, q4_end])\n",
    "\n",
    "        # Box\n",
    "        path = box_plot['boxes'][box_no].get_path()\n",
    "        path.vertices[0][1] = q2_start\n",
    "        path.vertices[1][1] = q2_start\n",
    "        path.vertices[2][1] = q4_start\n",
    "        path.vertices[3][1] = q4_start\n",
    "        path.vertices[4][1] = q2_start\n",
    "\n",
    "        # Median\n",
    "        box_plot['medians'][box_no].set_ydata([q3_start, q3_start])\n",
    "\n",
    "        # Outliers\n",
    "        if fliers_xy is not None and len(fliers_xy[0]) != 0:\n",
    "            # If outliers exist\n",
    "            box_plot['fliers'][box_no].set(xdata = fliers_xy[0],\n",
    "                                           ydata = fliers_xy[1])\n",
    "\n",
    "            min_y = min(q1_start, min_y, fliers_xy[1].min())\n",
    "            max_y = max(q4_end, max_y, fliers_xy[1].max())\n",
    "\n",
    "        else:\n",
    "            min_y = min(q1_start, min_y)\n",
    "            max_y = max(q4_end, max_y)\n",
    "\n",
    "        # The y axis is rescaled to fit the new box plot completely with 10% \n",
    "        # of the maximum value at both ends\n",
    "        # print(min_y, max_y)\n",
    "        axes.set_ylim([min_y*ylim_factor, max_y*ylim_factor])\n",
    "    ax.set_xticklabels(xtlabel)\n",
    "    ax.set_title(\"percentiles and outliers\")\n",
    "    ax.set_ylabel('Values')\n",
    "\n",
    "    # If redraw is set to true, the canvas is updated.\n",
    "    if redraw:\n",
    "        axes.figure.canvas.draw()\n",
    "    plt.show()\n",
    "    return box_plot\n"
   ]
  },
  {
   "cell_type": "markdown",
   "metadata": {},
   "source": [
    "## Testing the boxplot function"
   ]
  },
  {
   "cell_type": "markdown",
   "metadata": {},
   "source": [
    "### A small sample: tiny_data"
   ]
  },
  {
   "cell_type": "markdown",
   "metadata": {},
   "source": [
    "This will show boxplot of a variable with minimum data:"
   ]
  },
  {
   "cell_type": "code",
   "execution_count": 2,
   "metadata": {
    "collapsed": true
   },
   "outputs": [],
   "source": [
    "#:           min, 1qt, med, 3qt, max \n",
    "tiny = [-5, -4, 2, 7, 9]\n",
    "tiny_data = [tiny]"
   ]
  },
  {
   "cell_type": "code",
   "execution_count": 3,
   "metadata": {
    "collapsed": false,
    "scrolled": true
   },
   "outputs": [
    {
     "data": {
      "image/png": "[encoded data removed]",
      "text/plain": [
       "<matplotlib.figure.Figure at 0x3b872b0>"
      ]
     },
     "metadata": {},
     "output_type": "display_data"
    }
   ],
   "source": [
    "b = customized_box_plot(tiny_data, redraw=True, notch=0, sym='+', vert=1, whis=1.5)"
   ]
  },
  {
   "cell_type": "markdown",
   "metadata": {},
   "source": [
    "### Adding outliers to tiny_data"
   ]
  },
  {
   "cell_type": "code",
   "execution_count": 4,
   "metadata": {
    "collapsed": false
   },
   "outputs": [
    {
     "name": "stdout",
     "output_type": "stream",
     "text": [
      "[-12  10  11  12]\n",
      "[[-5, -4, 2, 7, 9]]\n"
     ]
    }
   ],
   "source": [
    "# with outliers\n",
    "outliers = np.array([-12, 10, 11, 12])\n",
    "print(outliers)\n",
    "print(tiny_data)"
   ]
  },
  {
   "cell_type": "markdown",
   "metadata": {},
   "source": [
    "The boxplot array, including outliers, should have this form:\n",
    "    \n",
    "    [[-9, -4, 2, 7, 9, array([10, 11, 12])]]"
   ]
  },
  {
   "cell_type": "markdown",
   "metadata": {},
   "source": [
    "### Building a list of percentiles and outliers"
   ]
  },
  {
   "cell_type": "code",
   "execution_count": 5,
   "metadata": {
    "collapsed": false
   },
   "outputs": [
    {
     "name": "stdout",
     "output_type": "stream",
     "text": [
      "[[-5, -4, 2, 7, 9, array([-12,  10,  11,  12])]]\n"
     ]
    }
   ],
   "source": [
    "import itertools\n",
    "\n",
    "tiny_data_out = tiny_data\n",
    "tiny_data_out = itertools.chain(*tiny_data)\n",
    "tiny_data_out = list(tiny_data_out)\n",
    "tiny_data_out.append(outliers)\n",
    "tiny_data_out = [tiny_data_out]\n",
    "print(tiny_data_out)"
   ]
  },
  {
   "cell_type": "code",
   "execution_count": 6,
   "metadata": {
    "collapsed": false
   },
   "outputs": [
    {
     "name": "stdout",
     "output_type": "stream",
     "text": [
      "outliers arrays being fixed for variable 0\n"
     ]
    },
    {
     "data": {
      "image/png": "[encoded data removed]",
      "text/plain": [
       "<matplotlib.figure.Figure at 0x63cd4d0>"
      ]
     },
     "metadata": {},
     "output_type": "display_data"
    }
   ],
   "source": [
    "b = customized_box_plot(tiny_data_out, redraw=True, notch=0, sym='+', vert=1, whis=1.5)"
   ]
  },
  {
   "cell_type": "markdown",
   "metadata": {},
   "source": [
    "> As we can see, the box plot shows the quartiles __q1__ and __q3__ and the __median__. The lower and upper caps are __not the minimum and maximum__ in all the cases. The caps are limited by the parameter `whis` which is set at 1.5 times the IQR."
   ]
  },
  {
   "cell_type": "markdown",
   "metadata": {},
   "source": [
    "### Plotting two variables, no outliers"
   ]
  },
  {
   "cell_type": "code",
   "execution_count": 7,
   "metadata": {
    "collapsed": false
   },
   "outputs": [],
   "source": [
    "small_data = [[-9, -4, 2, 7, 9], [11,12,13,14,15]]"
   ]
  },
  {
   "cell_type": "code",
   "execution_count": 8,
   "metadata": {
    "collapsed": false
   },
   "outputs": [
    {
     "data": {
      "image/png": "[encoded data removed]",
      "text/plain": [
       "<matplotlib.figure.Figure at 0x64e1270>"
      ]
     },
     "metadata": {},
     "output_type": "display_data"
    }
   ],
   "source": [
    "b = customized_box_plot(small_data, xtlabels=['A', 'B'], notch=0, sym='+', vert=1, whis=1.5)"
   ]
  },
  {
   "cell_type": "markdown",
   "metadata": {},
   "source": [
    "### Plotting three variables but with outliers"
   ]
  },
  {
   "cell_type": "code",
   "execution_count": 9,
   "metadata": {
    "collapsed": true
   },
   "outputs": [],
   "source": [
    "more_data = [[-9, -4, 2, 7, 9, np.array([-11, 10, 11, 12, 13])], \n",
    "             [11,12,13,14,15, np.array([-5, 20, 25, 30])], \n",
    "             [-15, -5, 0, 5, 15, np.array([-20, 17, 19, 21])]]"
   ]
  },
  {
   "cell_type": "code",
   "execution_count": 10,
   "metadata": {
    "collapsed": false,
    "scrolled": false
   },
   "outputs": [
    {
     "name": "stdout",
     "output_type": "stream",
     "text": [
      "outliers arrays being fixed for variable 0\n",
      "outliers arrays being fixed for variable 1\n",
      "outliers arrays being fixed for variable 2\n"
     ]
    },
    {
     "data": {
      "image/png": "[encoded data removed]",
      "text/plain": [
       "<matplotlib.figure.Figure at 0x65f0570>"
      ]
     },
     "metadata": {},
     "output_type": "display_data"
    }
   ],
   "source": [
    "#: we can also include names for the variables\n",
    "names = ['A', 'B', 'C']\n",
    "b = customized_box_plot(more_data, xtlabels=names, redraw=True, notch=0, sym='+', vert=1, whis=1.5)"
   ]
  },
  {
   "cell_type": "markdown",
   "metadata": {},
   "source": [
    "### Caps and whiskers"
   ]
  },
  {
   "cell_type": "markdown",
   "metadata": {},
   "source": [
    "> Now, we can confirm that if we provide the outliers and percentiles, the customized boxplot function will show the outliers as whiskers outside the lower and upper caps. __The caps, in this case, do not correspond to the minimum and maximum__ but to _1.5*IQR_.\n"
   ]
  },
  {
   "cell_type": "markdown",
   "metadata": {},
   "source": [
    "> the `whis` parameter. What we can see next is that `whis` parameter has no effect in the customized function. We are using `whis=10`!"
   ]
  },
  {
   "cell_type": "code",
   "execution_count": 11,
   "metadata": {
    "collapsed": false
   },
   "outputs": [
    {
     "name": "stdout",
     "output_type": "stream",
     "text": [
      "outliers arrays being fixed for variable 0\n",
      "outliers arrays being fixed for variable 1\n",
      "outliers arrays being fixed for variable 2\n"
     ]
    },
    {
     "data": {
      "image/png": "[encoded data removed]",
      "text/plain": [
       "<matplotlib.figure.Figure at 0x67aabd0>"
      ]
     },
     "metadata": {},
     "output_type": "display_data"
    }
   ],
   "source": [
    "names = ['A', 'B', 'C']\n",
    "b = customized_box_plot(more_data, xtlabels=names, redraw=True, notch=0, sym='+', vert=1, whis=10)"
   ]
  },
  {
   "cell_type": "markdown",
   "metadata": {},
   "source": [
    "> The `whis` parameter has no effect because it is redrawn inside the customized function."
   ]
  },
  {
   "cell_type": "markdown",
   "metadata": {},
   "source": [
    "What we will do next is to generate distributions, calculate the percentiles, extract the outliers and try plotting with the original matplotlib `boxplot` function."
   ]
  },
  {
   "cell_type": "markdown",
   "metadata": {},
   "source": [
    "# Plotting distributions and their boostraps"
   ]
  },
  {
   "cell_type": "markdown",
   "metadata": {},
   "source": [
    "## A matplotlib example to boxplot distributions\n",
    "\n",
    "This example has been modified to include a line with:\n",
    "\n",
    "      np.random.seed(200)\n",
    "\n",
    "to allow us obtaining same random numbers for our experiment."
   ]
  },
  {
   "cell_type": "code",
   "execution_count": 3,
   "metadata": {
    "collapsed": false,
    "scrolled": false
   },
   "outputs": [
    {
     "data": {
      "image/png": "[encoded data removed]",
      "text/plain": [
       "<matplotlib.figure.Figure at 0x3ddaff0>"
      ]
     },
     "metadata": {},
     "output_type": "display_data"
    }
   ],
   "source": [
    "\"\"\"\n",
    "Thanks Josh Hemann for the example\n",
    "\"\"\"\n",
    "from __future__ import print_function\n",
    "import numpy as np\n",
    "import matplotlib.pyplot as plt\n",
    "from matplotlib.patches import Polygon\n",
    "\n",
    "\n",
    "# Generate some data from five different probability distributions,\n",
    "# each with different characteristics. We want to play with how an IID\n",
    "# bootstrap resample of the data preserves the distributional\n",
    "# properties of the original sample, and a boxplot is one visual tool\n",
    "# to make this assessment\n",
    "numDists = 5\n",
    "randomDists = ['Normal(1,1)', ' Lognormal(1,1)', 'Exp(1)', 'Gumbel(6,4)',\n",
    "               'Triangular(2,9,11)']\n",
    "N = 500\n",
    "\n",
    "np.random.seed(250)\n",
    "\n",
    "norm = np.random.normal(1, 1, N)\n",
    "logn = np.random.lognormal(1, 1, N)\n",
    "expo = np.random.exponential(1, N)\n",
    "gumb = np.random.gumbel(6, 4, N)\n",
    "tria = np.random.triangular(2, 9, 11, N)\n",
    "\n",
    "# Generate some random indices that we'll use to resample the original data\n",
    "# arrays. For code brevity, just use the same random indices for each array\n",
    "# bootstrapIndices = np.random.random_integers(0, N - 1, N)\n",
    "bootstrapIndices = np.random.randint(0, N-1, N)\n",
    "\n",
    "normBoot = norm[bootstrapIndices]\n",
    "expoBoot = expo[bootstrapIndices]\n",
    "gumbBoot = gumb[bootstrapIndices]\n",
    "lognBoot = logn[bootstrapIndices]\n",
    "triaBoot = tria[bootstrapIndices]\n",
    "\n",
    "data = [norm, normBoot, logn, lognBoot, expo, expoBoot, gumb, gumbBoot,\n",
    "        tria, triaBoot]\n",
    "\n",
    "fig, ax1 = plt.subplots(figsize=(10, 6))\n",
    "fig.canvas.set_window_title('A Boxplot Example')\n",
    "plt.subplots_adjust(left=0.075, right=0.95, top=0.9, bottom=0.25)\n",
    "\n",
    "bp = plt.boxplot(data, notch=0, sym='+', vert=1, whis=1.5)\n",
    "plt.setp(bp['boxes'], color='black')\n",
    "plt.setp(bp['whiskers'], color='black')\n",
    "plt.setp(bp['fliers'], color='red', marker='+')\n",
    "\n",
    "# Add a horizontal grid to the plot, but make it very light in color\n",
    "# so we can use it for reading data values but not be distracting\n",
    "ax1.yaxis.grid(True, linestyle='-', which='major', color='lightgrey',\n",
    "               alpha=0.5)\n",
    "\n",
    "# Hide these grid behind plot objects\n",
    "ax1.set_axisbelow(True)\n",
    "ax1.set_title('Comparison of IID Bootstrap Resampling Across Five Distributions')\n",
    "ax1.set_xlabel('Distribution')\n",
    "ax1.set_ylabel('Value')\n",
    "\n",
    "# Now fill the boxes with desired colors\n",
    "boxColors = ['darkkhaki', 'royalblue']\n",
    "numBoxes = numDists*2\n",
    "medians = list(range(numBoxes))\n",
    "for i in range(numBoxes):\n",
    "    box = bp['boxes'][i]\n",
    "    boxX = []\n",
    "    boxY = []\n",
    "    for j in range(5):\n",
    "        boxX.append(box.get_xdata()[j])\n",
    "        boxY.append(box.get_ydata()[j])\n",
    "    boxCoords = list(zip(boxX, boxY))\n",
    "    # Alternate between Dark Khaki and Royal Blue\n",
    "    k = i % 2\n",
    "    boxPolygon = Polygon(boxCoords, facecolor=boxColors[k])\n",
    "    ax1.add_patch(boxPolygon)\n",
    "    # Now draw the median lines back over what we just filled in\n",
    "    med = bp['medians'][i]\n",
    "    medianX = []\n",
    "    medianY = []\n",
    "    for j in range(2):\n",
    "        medianX.append(med.get_xdata()[j])\n",
    "        medianY.append(med.get_ydata()[j])\n",
    "        plt.plot(medianX, medianY, 'k')\n",
    "        medians[i] = medianY[0]\n",
    "    # Finally, overplot the sample averages, with horizontal alignment\n",
    "    # in the center of each box\n",
    "    plt.plot([np.average(med.get_xdata())], [np.average(data[i])],\n",
    "             color='w', marker='*', markeredgecolor='k')\n",
    "\n",
    "# Set the axes ranges and axes labels\n",
    "ax1.set_xlim(0.5, numBoxes + 0.5)\n",
    "top = 40\n",
    "bottom = -5\n",
    "ax1.set_ylim(bottom, top)\n",
    "xtickNames = plt.setp(ax1, xticklabels=np.repeat(randomDists, 2))\n",
    "plt.setp(xtickNames, rotation=45, fontsize=8)\n",
    "\n",
    "# Due to the Y-axis scale being different across samples, it can be\n",
    "# hard to compare differences in medians across the samples. Add upper\n",
    "# X-axis tick labels with the sample medians to aid in comparison\n",
    "# (just use two decimal places of precision)\n",
    "pos = np.arange(numBoxes) + 1\n",
    "upperLabels = [str(np.round(s, 2)) for s in medians]\n",
    "weights = ['bold', 'semibold']\n",
    "for tick, label in zip(range(numBoxes), ax1.get_xticklabels()):\n",
    "    k = tick % 2\n",
    "    ax1.text(pos[tick], top - (top*0.05), upperLabels[tick],\n",
    "             horizontalalignment='center', size='x-small', weight=weights[k],\n",
    "             color=boxColors[k])\n",
    "\n",
    "# Finally, add a basic legend\n",
    "plt.figtext(0.80, 0.08, str(N) + ' Random Numbers',\n",
    "            backgroundcolor=boxColors[0], color='black', weight='roman',\n",
    "            size='x-small')\n",
    "plt.figtext(0.80, 0.045, 'IID Bootstrap Resample',\n",
    "            backgroundcolor=boxColors[1],\n",
    "            color='white', weight='roman', size='x-small')\n",
    "plt.figtext(0.80, 0.015, '*', color='white', backgroundcolor='silver',\n",
    "            weight='roman', size='medium')\n",
    "plt.figtext(0.815, 0.013, ' Average Value', color='black', weight='roman',\n",
    "            size='x-small')\n",
    "\n",
    "plt.show()"
   ]
  },
  {
   "cell_type": "markdown",
   "metadata": {},
   "source": [
    "## Getting percentiles and outliers from the data"
   ]
  },
  {
   "cell_type": "code",
   "execution_count": 4,
   "metadata": {
    "collapsed": true
   },
   "outputs": [],
   "source": [
    "def get_percentiles_from_box_plots(bp):\n",
    "    percentiles = []\n",
    "    for i in range(len(bp['boxes'])):\n",
    "        percentiles.append((bp['caps'][2*i].get_ydata()[0],\n",
    "                           bp['boxes'][i].get_ydata()[0],\n",
    "                           bp['medians'][i].get_ydata()[0],\n",
    "                           bp['boxes'][i].get_ydata()[2],\n",
    "                           bp['caps'][2*i + 1].get_ydata()[0],\n",
    "                           (bp['fliers'][i].get_xdata(),\n",
    "                            bp['fliers'][i].get_ydata())))\n",
    "    return percentiles"
   ]
  },
  {
   "cell_type": "code",
   "execution_count": 5,
   "metadata": {
    "collapsed": false
   },
   "outputs": [
    {
     "data": {
      "text/plain": [
       "[array([-1.71621774, -2.0231389 ,  3.99741747,  3.65833982,  3.87308106]),\n",
       " array([-2.0231389 , -2.0231389 , -1.71621774,  3.65833982,  3.99741747,\n",
       "         3.61505755]),\n",
       " array([ 13.34965575,  11.20386923,  26.77229609,  16.23283858,\n",
       "         15.14414748,  13.52070055,  13.29336908,  14.80216194,\n",
       "         14.07009024,  11.0530542 ,  32.57269232,  26.70876076,\n",
       "         12.25599026,  13.77100335,  12.76185192,  15.53305149,\n",
       "         17.72415461,  10.71883218,  11.64097131,  12.72226004,\n",
       "         10.75128195,  13.78857614,  10.83787431,  16.96749617,\n",
       "         13.77689348,  15.79019831,  26.9281414 ,  18.15055167,\n",
       "         18.7588332 ,  14.518236  ,  13.56524146,  11.01765864,\n",
       "         11.14188114,  14.93714977,  14.9757271 ,  10.63014604,\n",
       "         19.36354811,  17.42765612,  26.12290182,  14.68222579,\n",
       "         12.90920417,  22.85929865,  19.64187528,  24.23580033,  13.80488068]),\n",
       " array([ 12.90920417,  12.90920417,  14.68222579,  18.7588332 ,\n",
       "         14.9757271 ,  15.79019831,  16.96749617,  12.72226004,\n",
       "         19.64187528,  14.80216194,  11.20386923,  12.25599026,\n",
       "         24.23580033,  15.79019831,  16.96749617,  12.25599026,\n",
       "         14.07009024,  26.70876076,  11.20386923,  11.01765864,\n",
       "         14.80216194,  12.72226004,  13.77100335,  12.25599026,\n",
       "         12.25599026,  17.42765612,  14.68222579,  12.72226004,\n",
       "         12.25599026,  26.9281414 ,  15.14414748,  13.29336908,\n",
       "         17.42765612,  14.93714977,  17.42765612,  16.96749617,  13.77100335]),\n",
       " array([ 4.6984617 ,  4.1090784 ,  4.3521881 ,  3.76239879,  3.35289481,\n",
       "         3.52379525,  3.75823679,  3.73336056,  3.91320399,  3.52185724,\n",
       "         4.46332529,  4.83949345,  3.43924036,  4.61837801,  3.53029566,\n",
       "         3.40557258,  4.25470651,  3.62684076]),\n",
       " array([ 4.6984617 ,  3.75823679,  4.1090784 ,  3.43924036,  3.73336056,\n",
       "         4.83949345,  3.35289481,  3.91320399,  4.6984617 ,  3.40557258,\n",
       "         3.91320399,  3.35289481,  4.46332529,  3.40557258,  3.75823679,\n",
       "         3.40557258]),\n",
       " array([ 20.21115018,  19.02850693,  22.16275786,  19.58822123,\n",
       "         22.01370721,  20.9898989 ,  26.90893549,  24.82844396,\n",
       "         19.61504399,  20.18673979,  26.36844185,  26.97884287,\n",
       "         23.47016031,  19.5580525 ]),\n",
       " array([ 24.82844396,  20.21115018,  20.21115018,  26.90893549,\n",
       "         22.16275786,  26.97884287,  20.9898989 ,  20.9898989 ,\n",
       "         23.47016031,  20.18673979]),\n",
       " array([], dtype=float64),\n",
       " array([], dtype=float64)]"
      ]
     },
     "execution_count": 5,
     "metadata": {},
     "output_type": "execute_result"
    }
   ],
   "source": [
    "percentiles = get_percentiles_from_box_plots(bp)\n",
    "\n",
    "outliers_list = list()\n",
    "for i, member in enumerate(percentiles):\n",
    "    #print(i)\n",
    "    #print(member[5][1])\n",
    "    outliers_list.append(member[5][1])\n",
    "outliers_list"
   ]
  },
  {
   "cell_type": "markdown",
   "metadata": {},
   "source": [
    "> What this shows is the summary of the variables as percentiles and outliers."
   ]
  },
  {
   "cell_type": "markdown",
   "metadata": {},
   "source": [
    "## Dataframes for percentiles, outliers and distributions"
   ]
  },
  {
   "cell_type": "markdown",
   "metadata": {},
   "source": [
    "### Dataframe for percentiles"
   ]
  },
  {
   "cell_type": "code",
   "execution_count": 15,
   "metadata": {
    "collapsed": false
   },
   "outputs": [
    {
     "name": "stdout",
     "output_type": "stream",
     "text": [
      "percentiles\n"
     ]
    },
    {
     "data": {
      "text/html": [
       "<div>\n",
       "<table border=\"1\" class=\"dataframe\">\n",
       "  <thead>\n",
       "    <tr style=\"text-align: right;\">\n",
       "      <th></th>\n",
       "      <th>L_cap</th>\n",
       "      <th>q1</th>\n",
       "      <th>median</th>\n",
       "      <th>q3</th>\n",
       "      <th>U_cap</th>\n",
       "    </tr>\n",
       "  </thead>\n",
       "  <tbody>\n",
       "    <tr>\n",
       "      <th>norm</th>\n",
       "      <td>-1.536456</td>\n",
       "      <td>0.300179</td>\n",
       "      <td>0.951052</td>\n",
       "      <td>1.627195</td>\n",
       "      <td>3.615058</td>\n",
       "    </tr>\n",
       "    <tr>\n",
       "      <th>norm_bs</th>\n",
       "      <td>-1.536456</td>\n",
       "      <td>0.274124</td>\n",
       "      <td>0.874190</td>\n",
       "      <td>1.592497</td>\n",
       "      <td>3.533840</td>\n",
       "    </tr>\n",
       "    <tr>\n",
       "      <th>logn</th>\n",
       "      <td>0.194057</td>\n",
       "      <td>1.461431</td>\n",
       "      <td>2.790944</td>\n",
       "      <td>5.077334</td>\n",
       "      <td>10.405495</td>\n",
       "    </tr>\n",
       "    <tr>\n",
       "      <th>logn_bs</th>\n",
       "      <td>0.194057</td>\n",
       "      <td>1.477151</td>\n",
       "      <td>2.689871</td>\n",
       "      <td>5.227209</td>\n",
       "      <td>10.837874</td>\n",
       "    </tr>\n",
       "    <tr>\n",
       "      <th>expo</th>\n",
       "      <td>0.000874</td>\n",
       "      <td>0.288771</td>\n",
       "      <td>0.738852</td>\n",
       "      <td>1.507650</td>\n",
       "      <td>3.315654</td>\n",
       "    </tr>\n",
       "    <tr>\n",
       "      <th>expo_bs</th>\n",
       "      <td>0.000874</td>\n",
       "      <td>0.283581</td>\n",
       "      <td>0.732446</td>\n",
       "      <td>1.483458</td>\n",
       "      <td>3.228864</td>\n",
       "    </tr>\n",
       "    <tr>\n",
       "      <th>gumb</th>\n",
       "      <td>-2.408961</td>\n",
       "      <td>4.685190</td>\n",
       "      <td>7.535136</td>\n",
       "      <td>10.349247</td>\n",
       "      <td>18.803984</td>\n",
       "    </tr>\n",
       "    <tr>\n",
       "      <th>gumb_bs</th>\n",
       "      <td>-0.232696</td>\n",
       "      <td>4.881949</td>\n",
       "      <td>7.650246</td>\n",
       "      <td>10.817748</td>\n",
       "      <td>19.615044</td>\n",
       "    </tr>\n",
       "    <tr>\n",
       "      <th>tria</th>\n",
       "      <td>2.553701</td>\n",
       "      <td>6.005103</td>\n",
       "      <td>7.493794</td>\n",
       "      <td>8.730826</td>\n",
       "      <td>10.903385</td>\n",
       "    </tr>\n",
       "    <tr>\n",
       "      <th>tria_bs</th>\n",
       "      <td>2.631009</td>\n",
       "      <td>5.882735</td>\n",
       "      <td>7.354815</td>\n",
       "      <td>8.589261</td>\n",
       "      <td>10.903385</td>\n",
       "    </tr>\n",
       "  </tbody>\n",
       "</table>\n",
       "</div>"
      ],
      "text/plain": [
       "            L_cap        q1    median         q3      U_cap\n",
       "norm    -1.536456  0.300179  0.951052   1.627195   3.615058\n",
       "norm_bs -1.536456  0.274124  0.874190   1.592497   3.533840\n",
       "logn     0.194057  1.461431  2.790944   5.077334  10.405495\n",
       "logn_bs  0.194057  1.477151  2.689871   5.227209  10.837874\n",
       "expo     0.000874  0.288771  0.738852   1.507650   3.315654\n",
       "expo_bs  0.000874  0.283581  0.732446   1.483458   3.228864\n",
       "gumb    -2.408961  4.685190  7.535136  10.349247  18.803984\n",
       "gumb_bs -0.232696  4.881949  7.650246  10.817748  19.615044\n",
       "tria     2.553701  6.005103  7.493794   8.730826  10.903385\n",
       "tria_bs  2.631009  5.882735  7.354815   8.589261  10.903385"
      ]
     },
     "execution_count": 15,
     "metadata": {},
     "output_type": "execute_result"
    }
   ],
   "source": [
    "import pandas as pd\n",
    "\n",
    "percentiles = get_percentiles_from_box_plots(bp)\n",
    "len(percentiles)\n",
    "columns = [\"L_cap\", \"q1\", \"median\", \"q3\", \"U_cap\"]\n",
    "s = list()\n",
    "for i, member in enumerate(percentiles):\n",
    "    #print(i)\n",
    "    s.append(member[0:5])\n",
    "\n",
    "print(\"percentiles\")\n",
    "percentiles_df = pd.DataFrame(s, columns=columns)\n",
    "\n",
    "#: names for the index\n",
    "distrib = ['norm', 'norm_bs', 'logn', 'logn_bs', 'expo', 'expo_bs', 'gumb', 'gumb_bs',\n",
    "                'tria', 'tria_bs']\n",
    "percentiles_df.index = distrib\n",
    "percentiles_df"
   ]
  },
  {
   "cell_type": "markdown",
   "metadata": {},
   "source": [
    "### Test: Getting percentiles for the normal"
   ]
  },
  {
   "cell_type": "markdown",
   "metadata": {},
   "source": [
    "Here are two ways of obtaining the percentiles from the dataframe we just built:"
   ]
  },
  {
   "cell_type": "code",
   "execution_count": 16,
   "metadata": {
    "collapsed": false
   },
   "outputs": [
    {
     "data": {
      "text/plain": [
       "array([-1.53645618,  0.30017884,  0.95105182,  1.62719461,  3.61505755])"
      ]
     },
     "execution_count": 16,
     "metadata": {},
     "output_type": "execute_result"
    }
   ],
   "source": [
    "p = percentiles_df.loc['norm', :].values\n",
    "p"
   ]
  },
  {
   "cell_type": "code",
   "execution_count": 17,
   "metadata": {
    "collapsed": false
   },
   "outputs": [
    {
     "data": {
      "text/plain": [
       "array([-1.53645618,  0.30017884,  0.95105182,  1.62719461,  3.61505755])"
      ]
     },
     "execution_count": 17,
     "metadata": {},
     "output_type": "execute_result"
    }
   ],
   "source": [
    "p = percentiles_df.iloc[0][:].values\n",
    "p"
   ]
  },
  {
   "cell_type": "markdown",
   "metadata": {},
   "source": [
    "### Dataframe for the outliers"
   ]
  },
  {
   "cell_type": "code",
   "execution_count": 18,
   "metadata": {
    "collapsed": false
   },
   "outputs": [
    {
     "data": {
      "text/html": [
       "<div>\n",
       "<table border=\"1\" class=\"dataframe\">\n",
       "  <thead>\n",
       "    <tr style=\"text-align: right;\">\n",
       "      <th></th>\n",
       "      <th>norm</th>\n",
       "      <th>norm_bs</th>\n",
       "      <th>logn</th>\n",
       "      <th>logn_bs</th>\n",
       "      <th>expo</th>\n",
       "      <th>expo_bs</th>\n",
       "      <th>gumb</th>\n",
       "      <th>gumb_bs</th>\n",
       "      <th>tria</th>\n",
       "      <th>tria_bs</th>\n",
       "    </tr>\n",
       "  </thead>\n",
       "  <tbody>\n",
       "    <tr>\n",
       "      <th>0</th>\n",
       "      <td>-1.716218</td>\n",
       "      <td>-2.023139</td>\n",
       "      <td>13.349656</td>\n",
       "      <td>12.909204</td>\n",
       "      <td>4.698462</td>\n",
       "      <td>4.698462</td>\n",
       "      <td>20.211150</td>\n",
       "      <td>24.828444</td>\n",
       "      <td>NaN</td>\n",
       "      <td>NaN</td>\n",
       "    </tr>\n",
       "    <tr>\n",
       "      <th>1</th>\n",
       "      <td>-2.023139</td>\n",
       "      <td>-2.023139</td>\n",
       "      <td>11.203869</td>\n",
       "      <td>12.909204</td>\n",
       "      <td>4.109078</td>\n",
       "      <td>3.758237</td>\n",
       "      <td>19.028507</td>\n",
       "      <td>20.211150</td>\n",
       "      <td>NaN</td>\n",
       "      <td>NaN</td>\n",
       "    </tr>\n",
       "    <tr>\n",
       "      <th>2</th>\n",
       "      <td>3.997417</td>\n",
       "      <td>-1.716218</td>\n",
       "      <td>26.772296</td>\n",
       "      <td>14.682226</td>\n",
       "      <td>4.352188</td>\n",
       "      <td>4.109078</td>\n",
       "      <td>22.162758</td>\n",
       "      <td>20.211150</td>\n",
       "      <td>NaN</td>\n",
       "      <td>NaN</td>\n",
       "    </tr>\n",
       "    <tr>\n",
       "      <th>3</th>\n",
       "      <td>3.658340</td>\n",
       "      <td>3.658340</td>\n",
       "      <td>16.232839</td>\n",
       "      <td>18.758833</td>\n",
       "      <td>3.762399</td>\n",
       "      <td>3.439240</td>\n",
       "      <td>19.588221</td>\n",
       "      <td>26.908935</td>\n",
       "      <td>NaN</td>\n",
       "      <td>NaN</td>\n",
       "    </tr>\n",
       "    <tr>\n",
       "      <th>4</th>\n",
       "      <td>3.873081</td>\n",
       "      <td>3.997417</td>\n",
       "      <td>15.144147</td>\n",
       "      <td>14.975727</td>\n",
       "      <td>3.352895</td>\n",
       "      <td>3.733361</td>\n",
       "      <td>22.013707</td>\n",
       "      <td>22.162758</td>\n",
       "      <td>NaN</td>\n",
       "      <td>NaN</td>\n",
       "    </tr>\n",
       "    <tr>\n",
       "      <th>5</th>\n",
       "      <td>NaN</td>\n",
       "      <td>3.615058</td>\n",
       "      <td>13.520701</td>\n",
       "      <td>15.790198</td>\n",
       "      <td>3.523795</td>\n",
       "      <td>4.839493</td>\n",
       "      <td>20.989899</td>\n",
       "      <td>26.978843</td>\n",
       "      <td>NaN</td>\n",
       "      <td>NaN</td>\n",
       "    </tr>\n",
       "    <tr>\n",
       "      <th>6</th>\n",
       "      <td>NaN</td>\n",
       "      <td>NaN</td>\n",
       "      <td>13.293369</td>\n",
       "      <td>16.967496</td>\n",
       "      <td>3.758237</td>\n",
       "      <td>3.352895</td>\n",
       "      <td>26.908935</td>\n",
       "      <td>20.989899</td>\n",
       "      <td>NaN</td>\n",
       "      <td>NaN</td>\n",
       "    </tr>\n",
       "    <tr>\n",
       "      <th>7</th>\n",
       "      <td>NaN</td>\n",
       "      <td>NaN</td>\n",
       "      <td>14.802162</td>\n",
       "      <td>12.722260</td>\n",
       "      <td>3.733361</td>\n",
       "      <td>3.913204</td>\n",
       "      <td>24.828444</td>\n",
       "      <td>20.989899</td>\n",
       "      <td>NaN</td>\n",
       "      <td>NaN</td>\n",
       "    </tr>\n",
       "    <tr>\n",
       "      <th>8</th>\n",
       "      <td>NaN</td>\n",
       "      <td>NaN</td>\n",
       "      <td>14.070090</td>\n",
       "      <td>19.641875</td>\n",
       "      <td>3.913204</td>\n",
       "      <td>4.698462</td>\n",
       "      <td>19.615044</td>\n",
       "      <td>23.470160</td>\n",
       "      <td>NaN</td>\n",
       "      <td>NaN</td>\n",
       "    </tr>\n",
       "    <tr>\n",
       "      <th>9</th>\n",
       "      <td>NaN</td>\n",
       "      <td>NaN</td>\n",
       "      <td>11.053054</td>\n",
       "      <td>14.802162</td>\n",
       "      <td>3.521857</td>\n",
       "      <td>3.405573</td>\n",
       "      <td>20.186740</td>\n",
       "      <td>20.186740</td>\n",
       "      <td>NaN</td>\n",
       "      <td>NaN</td>\n",
       "    </tr>\n",
       "    <tr>\n",
       "      <th>10</th>\n",
       "      <td>NaN</td>\n",
       "      <td>NaN</td>\n",
       "      <td>32.572692</td>\n",
       "      <td>11.203869</td>\n",
       "      <td>4.463325</td>\n",
       "      <td>3.913204</td>\n",
       "      <td>26.368442</td>\n",
       "      <td>NaN</td>\n",
       "      <td>NaN</td>\n",
       "      <td>NaN</td>\n",
       "    </tr>\n",
       "    <tr>\n",
       "      <th>11</th>\n",
       "      <td>NaN</td>\n",
       "      <td>NaN</td>\n",
       "      <td>26.708761</td>\n",
       "      <td>12.255990</td>\n",
       "      <td>4.839493</td>\n",
       "      <td>3.352895</td>\n",
       "      <td>26.978843</td>\n",
       "      <td>NaN</td>\n",
       "      <td>NaN</td>\n",
       "      <td>NaN</td>\n",
       "    </tr>\n",
       "    <tr>\n",
       "      <th>12</th>\n",
       "      <td>NaN</td>\n",
       "      <td>NaN</td>\n",
       "      <td>12.255990</td>\n",
       "      <td>24.235800</td>\n",
       "      <td>3.439240</td>\n",
       "      <td>4.463325</td>\n",
       "      <td>23.470160</td>\n",
       "      <td>NaN</td>\n",
       "      <td>NaN</td>\n",
       "      <td>NaN</td>\n",
       "    </tr>\n",
       "    <tr>\n",
       "      <th>13</th>\n",
       "      <td>NaN</td>\n",
       "      <td>NaN</td>\n",
       "      <td>13.771003</td>\n",
       "      <td>15.790198</td>\n",
       "      <td>4.618378</td>\n",
       "      <td>3.405573</td>\n",
       "      <td>19.558052</td>\n",
       "      <td>NaN</td>\n",
       "      <td>NaN</td>\n",
       "      <td>NaN</td>\n",
       "    </tr>\n",
       "    <tr>\n",
       "      <th>14</th>\n",
       "      <td>NaN</td>\n",
       "      <td>NaN</td>\n",
       "      <td>12.761852</td>\n",
       "      <td>16.967496</td>\n",
       "      <td>3.530296</td>\n",
       "      <td>3.758237</td>\n",
       "      <td>NaN</td>\n",
       "      <td>NaN</td>\n",
       "      <td>NaN</td>\n",
       "      <td>NaN</td>\n",
       "    </tr>\n",
       "    <tr>\n",
       "      <th>15</th>\n",
       "      <td>NaN</td>\n",
       "      <td>NaN</td>\n",
       "      <td>15.533051</td>\n",
       "      <td>12.255990</td>\n",
       "      <td>3.405573</td>\n",
       "      <td>3.405573</td>\n",
       "      <td>NaN</td>\n",
       "      <td>NaN</td>\n",
       "      <td>NaN</td>\n",
       "      <td>NaN</td>\n",
       "    </tr>\n",
       "    <tr>\n",
       "      <th>16</th>\n",
       "      <td>NaN</td>\n",
       "      <td>NaN</td>\n",
       "      <td>17.724155</td>\n",
       "      <td>14.070090</td>\n",
       "      <td>4.254707</td>\n",
       "      <td>NaN</td>\n",
       "      <td>NaN</td>\n",
       "      <td>NaN</td>\n",
       "      <td>NaN</td>\n",
       "      <td>NaN</td>\n",
       "    </tr>\n",
       "    <tr>\n",
       "      <th>17</th>\n",
       "      <td>NaN</td>\n",
       "      <td>NaN</td>\n",
       "      <td>10.718832</td>\n",
       "      <td>26.708761</td>\n",
       "      <td>3.626841</td>\n",
       "      <td>NaN</td>\n",
       "      <td>NaN</td>\n",
       "      <td>NaN</td>\n",
       "      <td>NaN</td>\n",
       "      <td>NaN</td>\n",
       "    </tr>\n",
       "    <tr>\n",
       "      <th>18</th>\n",
       "      <td>NaN</td>\n",
       "      <td>NaN</td>\n",
       "      <td>11.640971</td>\n",
       "      <td>11.203869</td>\n",
       "      <td>NaN</td>\n",
       "      <td>NaN</td>\n",
       "      <td>NaN</td>\n",
       "      <td>NaN</td>\n",
       "      <td>NaN</td>\n",
       "      <td>NaN</td>\n",
       "    </tr>\n",
       "    <tr>\n",
       "      <th>19</th>\n",
       "      <td>NaN</td>\n",
       "      <td>NaN</td>\n",
       "      <td>12.722260</td>\n",
       "      <td>11.017659</td>\n",
       "      <td>NaN</td>\n",
       "      <td>NaN</td>\n",
       "      <td>NaN</td>\n",
       "      <td>NaN</td>\n",
       "      <td>NaN</td>\n",
       "      <td>NaN</td>\n",
       "    </tr>\n",
       "    <tr>\n",
       "      <th>20</th>\n",
       "      <td>NaN</td>\n",
       "      <td>NaN</td>\n",
       "      <td>10.751282</td>\n",
       "      <td>14.802162</td>\n",
       "      <td>NaN</td>\n",
       "      <td>NaN</td>\n",
       "      <td>NaN</td>\n",
       "      <td>NaN</td>\n",
       "      <td>NaN</td>\n",
       "      <td>NaN</td>\n",
       "    </tr>\n",
       "    <tr>\n",
       "      <th>21</th>\n",
       "      <td>NaN</td>\n",
       "      <td>NaN</td>\n",
       "      <td>13.788576</td>\n",
       "      <td>12.722260</td>\n",
       "      <td>NaN</td>\n",
       "      <td>NaN</td>\n",
       "      <td>NaN</td>\n",
       "      <td>NaN</td>\n",
       "      <td>NaN</td>\n",
       "      <td>NaN</td>\n",
       "    </tr>\n",
       "    <tr>\n",
       "      <th>22</th>\n",
       "      <td>NaN</td>\n",
       "      <td>NaN</td>\n",
       "      <td>10.837874</td>\n",
       "      <td>13.771003</td>\n",
       "      <td>NaN</td>\n",
       "      <td>NaN</td>\n",
       "      <td>NaN</td>\n",
       "      <td>NaN</td>\n",
       "      <td>NaN</td>\n",
       "      <td>NaN</td>\n",
       "    </tr>\n",
       "    <tr>\n",
       "      <th>23</th>\n",
       "      <td>NaN</td>\n",
       "      <td>NaN</td>\n",
       "      <td>16.967496</td>\n",
       "      <td>12.255990</td>\n",
       "      <td>NaN</td>\n",
       "      <td>NaN</td>\n",
       "      <td>NaN</td>\n",
       "      <td>NaN</td>\n",
       "      <td>NaN</td>\n",
       "      <td>NaN</td>\n",
       "    </tr>\n",
       "    <tr>\n",
       "      <th>24</th>\n",
       "      <td>NaN</td>\n",
       "      <td>NaN</td>\n",
       "      <td>13.776893</td>\n",
       "      <td>12.255990</td>\n",
       "      <td>NaN</td>\n",
       "      <td>NaN</td>\n",
       "      <td>NaN</td>\n",
       "      <td>NaN</td>\n",
       "      <td>NaN</td>\n",
       "      <td>NaN</td>\n",
       "    </tr>\n",
       "    <tr>\n",
       "      <th>25</th>\n",
       "      <td>NaN</td>\n",
       "      <td>NaN</td>\n",
       "      <td>15.790198</td>\n",
       "      <td>17.427656</td>\n",
       "      <td>NaN</td>\n",
       "      <td>NaN</td>\n",
       "      <td>NaN</td>\n",
       "      <td>NaN</td>\n",
       "      <td>NaN</td>\n",
       "      <td>NaN</td>\n",
       "    </tr>\n",
       "    <tr>\n",
       "      <th>26</th>\n",
       "      <td>NaN</td>\n",
       "      <td>NaN</td>\n",
       "      <td>26.928141</td>\n",
       "      <td>14.682226</td>\n",
       "      <td>NaN</td>\n",
       "      <td>NaN</td>\n",
       "      <td>NaN</td>\n",
       "      <td>NaN</td>\n",
       "      <td>NaN</td>\n",
       "      <td>NaN</td>\n",
       "    </tr>\n",
       "    <tr>\n",
       "      <th>27</th>\n",
       "      <td>NaN</td>\n",
       "      <td>NaN</td>\n",
       "      <td>18.150552</td>\n",
       "      <td>12.722260</td>\n",
       "      <td>NaN</td>\n",
       "      <td>NaN</td>\n",
       "      <td>NaN</td>\n",
       "      <td>NaN</td>\n",
       "      <td>NaN</td>\n",
       "      <td>NaN</td>\n",
       "    </tr>\n",
       "    <tr>\n",
       "      <th>28</th>\n",
       "      <td>NaN</td>\n",
       "      <td>NaN</td>\n",
       "      <td>18.758833</td>\n",
       "      <td>12.255990</td>\n",
       "      <td>NaN</td>\n",
       "      <td>NaN</td>\n",
       "      <td>NaN</td>\n",
       "      <td>NaN</td>\n",
       "      <td>NaN</td>\n",
       "      <td>NaN</td>\n",
       "    </tr>\n",
       "    <tr>\n",
       "      <th>29</th>\n",
       "      <td>NaN</td>\n",
       "      <td>NaN</td>\n",
       "      <td>14.518236</td>\n",
       "      <td>26.928141</td>\n",
       "      <td>NaN</td>\n",
       "      <td>NaN</td>\n",
       "      <td>NaN</td>\n",
       "      <td>NaN</td>\n",
       "      <td>NaN</td>\n",
       "      <td>NaN</td>\n",
       "    </tr>\n",
       "    <tr>\n",
       "      <th>30</th>\n",
       "      <td>NaN</td>\n",
       "      <td>NaN</td>\n",
       "      <td>13.565241</td>\n",
       "      <td>15.144147</td>\n",
       "      <td>NaN</td>\n",
       "      <td>NaN</td>\n",
       "      <td>NaN</td>\n",
       "      <td>NaN</td>\n",
       "      <td>NaN</td>\n",
       "      <td>NaN</td>\n",
       "    </tr>\n",
       "    <tr>\n",
       "      <th>31</th>\n",
       "      <td>NaN</td>\n",
       "      <td>NaN</td>\n",
       "      <td>11.017659</td>\n",
       "      <td>13.293369</td>\n",
       "      <td>NaN</td>\n",
       "      <td>NaN</td>\n",
       "      <td>NaN</td>\n",
       "      <td>NaN</td>\n",
       "      <td>NaN</td>\n",
       "      <td>NaN</td>\n",
       "    </tr>\n",
       "    <tr>\n",
       "      <th>32</th>\n",
       "      <td>NaN</td>\n",
       "      <td>NaN</td>\n",
       "      <td>11.141881</td>\n",
       "      <td>17.427656</td>\n",
       "      <td>NaN</td>\n",
       "      <td>NaN</td>\n",
       "      <td>NaN</td>\n",
       "      <td>NaN</td>\n",
       "      <td>NaN</td>\n",
       "      <td>NaN</td>\n",
       "    </tr>\n",
       "    <tr>\n",
       "      <th>33</th>\n",
       "      <td>NaN</td>\n",
       "      <td>NaN</td>\n",
       "      <td>14.937150</td>\n",
       "      <td>14.937150</td>\n",
       "      <td>NaN</td>\n",
       "      <td>NaN</td>\n",
       "      <td>NaN</td>\n",
       "      <td>NaN</td>\n",
       "      <td>NaN</td>\n",
       "      <td>NaN</td>\n",
       "    </tr>\n",
       "    <tr>\n",
       "      <th>34</th>\n",
       "      <td>NaN</td>\n",
       "      <td>NaN</td>\n",
       "      <td>14.975727</td>\n",
       "      <td>17.427656</td>\n",
       "      <td>NaN</td>\n",
       "      <td>NaN</td>\n",
       "      <td>NaN</td>\n",
       "      <td>NaN</td>\n",
       "      <td>NaN</td>\n",
       "      <td>NaN</td>\n",
       "    </tr>\n",
       "    <tr>\n",
       "      <th>35</th>\n",
       "      <td>NaN</td>\n",
       "      <td>NaN</td>\n",
       "      <td>10.630146</td>\n",
       "      <td>16.967496</td>\n",
       "      <td>NaN</td>\n",
       "      <td>NaN</td>\n",
       "      <td>NaN</td>\n",
       "      <td>NaN</td>\n",
       "      <td>NaN</td>\n",
       "      <td>NaN</td>\n",
       "    </tr>\n",
       "    <tr>\n",
       "      <th>36</th>\n",
       "      <td>NaN</td>\n",
       "      <td>NaN</td>\n",
       "      <td>19.363548</td>\n",
       "      <td>13.771003</td>\n",
       "      <td>NaN</td>\n",
       "      <td>NaN</td>\n",
       "      <td>NaN</td>\n",
       "      <td>NaN</td>\n",
       "      <td>NaN</td>\n",
       "      <td>NaN</td>\n",
       "    </tr>\n",
       "    <tr>\n",
       "      <th>37</th>\n",
       "      <td>NaN</td>\n",
       "      <td>NaN</td>\n",
       "      <td>17.427656</td>\n",
       "      <td>NaN</td>\n",
       "      <td>NaN</td>\n",
       "      <td>NaN</td>\n",
       "      <td>NaN</td>\n",
       "      <td>NaN</td>\n",
       "      <td>NaN</td>\n",
       "      <td>NaN</td>\n",
       "    </tr>\n",
       "    <tr>\n",
       "      <th>38</th>\n",
       "      <td>NaN</td>\n",
       "      <td>NaN</td>\n",
       "      <td>26.122902</td>\n",
       "      <td>NaN</td>\n",
       "      <td>NaN</td>\n",
       "      <td>NaN</td>\n",
       "      <td>NaN</td>\n",
       "      <td>NaN</td>\n",
       "      <td>NaN</td>\n",
       "      <td>NaN</td>\n",
       "    </tr>\n",
       "    <tr>\n",
       "      <th>39</th>\n",
       "      <td>NaN</td>\n",
       "      <td>NaN</td>\n",
       "      <td>14.682226</td>\n",
       "      <td>NaN</td>\n",
       "      <td>NaN</td>\n",
       "      <td>NaN</td>\n",
       "      <td>NaN</td>\n",
       "      <td>NaN</td>\n",
       "      <td>NaN</td>\n",
       "      <td>NaN</td>\n",
       "    </tr>\n",
       "    <tr>\n",
       "      <th>40</th>\n",
       "      <td>NaN</td>\n",
       "      <td>NaN</td>\n",
       "      <td>12.909204</td>\n",
       "      <td>NaN</td>\n",
       "      <td>NaN</td>\n",
       "      <td>NaN</td>\n",
       "      <td>NaN</td>\n",
       "      <td>NaN</td>\n",
       "      <td>NaN</td>\n",
       "      <td>NaN</td>\n",
       "    </tr>\n",
       "    <tr>\n",
       "      <th>41</th>\n",
       "      <td>NaN</td>\n",
       "      <td>NaN</td>\n",
       "      <td>22.859299</td>\n",
       "      <td>NaN</td>\n",
       "      <td>NaN</td>\n",
       "      <td>NaN</td>\n",
       "      <td>NaN</td>\n",
       "      <td>NaN</td>\n",
       "      <td>NaN</td>\n",
       "      <td>NaN</td>\n",
       "    </tr>\n",
       "    <tr>\n",
       "      <th>42</th>\n",
       "      <td>NaN</td>\n",
       "      <td>NaN</td>\n",
       "      <td>19.641875</td>\n",
       "      <td>NaN</td>\n",
       "      <td>NaN</td>\n",
       "      <td>NaN</td>\n",
       "      <td>NaN</td>\n",
       "      <td>NaN</td>\n",
       "      <td>NaN</td>\n",
       "      <td>NaN</td>\n",
       "    </tr>\n",
       "    <tr>\n",
       "      <th>43</th>\n",
       "      <td>NaN</td>\n",
       "      <td>NaN</td>\n",
       "      <td>24.235800</td>\n",
       "      <td>NaN</td>\n",
       "      <td>NaN</td>\n",
       "      <td>NaN</td>\n",
       "      <td>NaN</td>\n",
       "      <td>NaN</td>\n",
       "      <td>NaN</td>\n",
       "      <td>NaN</td>\n",
       "    </tr>\n",
       "    <tr>\n",
       "      <th>44</th>\n",
       "      <td>NaN</td>\n",
       "      <td>NaN</td>\n",
       "      <td>13.804881</td>\n",
       "      <td>NaN</td>\n",
       "      <td>NaN</td>\n",
       "      <td>NaN</td>\n",
       "      <td>NaN</td>\n",
       "      <td>NaN</td>\n",
       "      <td>NaN</td>\n",
       "      <td>NaN</td>\n",
       "    </tr>\n",
       "  </tbody>\n",
       "</table>\n",
       "</div>"
      ],
      "text/plain": [
       "        norm   norm_bs       logn    logn_bs      expo   expo_bs       gumb  \\\n",
       "0  -1.716218 -2.023139  13.349656  12.909204  4.698462  4.698462  20.211150   \n",
       "1  -2.023139 -2.023139  11.203869  12.909204  4.109078  3.758237  19.028507   \n",
       "2   3.997417 -1.716218  26.772296  14.682226  4.352188  4.109078  22.162758   \n",
       "3   3.658340  3.658340  16.232839  18.758833  3.762399  3.439240  19.588221   \n",
       "4   3.873081  3.997417  15.144147  14.975727  3.352895  3.733361  22.013707   \n",
       "5        NaN  3.615058  13.520701  15.790198  3.523795  4.839493  20.989899   \n",
       "6        NaN       NaN  13.293369  16.967496  3.758237  3.352895  26.908935   \n",
       "7        NaN       NaN  14.802162  12.722260  3.733361  3.913204  24.828444   \n",
       "8        NaN       NaN  14.070090  19.641875  3.913204  4.698462  19.615044   \n",
       "9        NaN       NaN  11.053054  14.802162  3.521857  3.405573  20.186740   \n",
       "10       NaN       NaN  32.572692  11.203869  4.463325  3.913204  26.368442   \n",
       "11       NaN       NaN  26.708761  12.255990  4.839493  3.352895  26.978843   \n",
       "12       NaN       NaN  12.255990  24.235800  3.439240  4.463325  23.470160   \n",
       "13       NaN       NaN  13.771003  15.790198  4.618378  3.405573  19.558052   \n",
       "14       NaN       NaN  12.761852  16.967496  3.530296  3.758237        NaN   \n",
       "15       NaN       NaN  15.533051  12.255990  3.405573  3.405573        NaN   \n",
       "16       NaN       NaN  17.724155  14.070090  4.254707       NaN        NaN   \n",
       "17       NaN       NaN  10.718832  26.708761  3.626841       NaN        NaN   \n",
       "18       NaN       NaN  11.640971  11.203869       NaN       NaN        NaN   \n",
       "19       NaN       NaN  12.722260  11.017659       NaN       NaN        NaN   \n",
       "20       NaN       NaN  10.751282  14.802162       NaN       NaN        NaN   \n",
       "21       NaN       NaN  13.788576  12.722260       NaN       NaN        NaN   \n",
       "22       NaN       NaN  10.837874  13.771003       NaN       NaN        NaN   \n",
       "23       NaN       NaN  16.967496  12.255990       NaN       NaN        NaN   \n",
       "24       NaN       NaN  13.776893  12.255990       NaN       NaN        NaN   \n",
       "25       NaN       NaN  15.790198  17.427656       NaN       NaN        NaN   \n",
       "26       NaN       NaN  26.928141  14.682226       NaN       NaN        NaN   \n",
       "27       NaN       NaN  18.150552  12.722260       NaN       NaN        NaN   \n",
       "28       NaN       NaN  18.758833  12.255990       NaN       NaN        NaN   \n",
       "29       NaN       NaN  14.518236  26.928141       NaN       NaN        NaN   \n",
       "30       NaN       NaN  13.565241  15.144147       NaN       NaN        NaN   \n",
       "31       NaN       NaN  11.017659  13.293369       NaN       NaN        NaN   \n",
       "32       NaN       NaN  11.141881  17.427656       NaN       NaN        NaN   \n",
       "33       NaN       NaN  14.937150  14.937150       NaN       NaN        NaN   \n",
       "34       NaN       NaN  14.975727  17.427656       NaN       NaN        NaN   \n",
       "35       NaN       NaN  10.630146  16.967496       NaN       NaN        NaN   \n",
       "36       NaN       NaN  19.363548  13.771003       NaN       NaN        NaN   \n",
       "37       NaN       NaN  17.427656        NaN       NaN       NaN        NaN   \n",
       "38       NaN       NaN  26.122902        NaN       NaN       NaN        NaN   \n",
       "39       NaN       NaN  14.682226        NaN       NaN       NaN        NaN   \n",
       "40       NaN       NaN  12.909204        NaN       NaN       NaN        NaN   \n",
       "41       NaN       NaN  22.859299        NaN       NaN       NaN        NaN   \n",
       "42       NaN       NaN  19.641875        NaN       NaN       NaN        NaN   \n",
       "43       NaN       NaN  24.235800        NaN       NaN       NaN        NaN   \n",
       "44       NaN       NaN  13.804881        NaN       NaN       NaN        NaN   \n",
       "\n",
       "      gumb_bs  tria  tria_bs  \n",
       "0   24.828444   NaN      NaN  \n",
       "1   20.211150   NaN      NaN  \n",
       "2   20.211150   NaN      NaN  \n",
       "3   26.908935   NaN      NaN  \n",
       "4   22.162758   NaN      NaN  \n",
       "5   26.978843   NaN      NaN  \n",
       "6   20.989899   NaN      NaN  \n",
       "7   20.989899   NaN      NaN  \n",
       "8   23.470160   NaN      NaN  \n",
       "9   20.186740   NaN      NaN  \n",
       "10        NaN   NaN      NaN  \n",
       "11        NaN   NaN      NaN  \n",
       "12        NaN   NaN      NaN  \n",
       "13        NaN   NaN      NaN  \n",
       "14        NaN   NaN      NaN  \n",
       "15        NaN   NaN      NaN  \n",
       "16        NaN   NaN      NaN  \n",
       "17        NaN   NaN      NaN  \n",
       "18        NaN   NaN      NaN  \n",
       "19        NaN   NaN      NaN  \n",
       "20        NaN   NaN      NaN  \n",
       "21        NaN   NaN      NaN  \n",
       "22        NaN   NaN      NaN  \n",
       "23        NaN   NaN      NaN  \n",
       "24        NaN   NaN      NaN  \n",
       "25        NaN   NaN      NaN  \n",
       "26        NaN   NaN      NaN  \n",
       "27        NaN   NaN      NaN  \n",
       "28        NaN   NaN      NaN  \n",
       "29        NaN   NaN      NaN  \n",
       "30        NaN   NaN      NaN  \n",
       "31        NaN   NaN      NaN  \n",
       "32        NaN   NaN      NaN  \n",
       "33        NaN   NaN      NaN  \n",
       "34        NaN   NaN      NaN  \n",
       "35        NaN   NaN      NaN  \n",
       "36        NaN   NaN      NaN  \n",
       "37        NaN   NaN      NaN  \n",
       "38        NaN   NaN      NaN  \n",
       "39        NaN   NaN      NaN  \n",
       "40        NaN   NaN      NaN  \n",
       "41        NaN   NaN      NaN  \n",
       "42        NaN   NaN      NaN  \n",
       "43        NaN   NaN      NaN  \n",
       "44        NaN   NaN      NaN  "
      ]
     },
     "execution_count": 18,
     "metadata": {},
     "output_type": "execute_result"
    }
   ],
   "source": [
    "df = pd.DataFrame()\n",
    "for i, member in enumerate(percentiles):\n",
    "    #print(i)\n",
    "    #print(member[5][1])\n",
    "    df = pd.concat([df, pd.DataFrame(member[5][1])], axis=1)\n",
    "outliers_df = df.copy()\n",
    "outliers_df.columns = distrib\n",
    "\n",
    "outliers_df"
   ]
  },
  {
   "cell_type": "markdown",
   "metadata": {},
   "source": [
    "### Test: Getting the outliers from the dataframe\n",
    "Let's keep in mind that we don't want the NaN values that were created to allow for the missing data when we created the dataframe."
   ]
  },
  {
   "cell_type": "code",
   "execution_count": 20,
   "metadata": {
    "collapsed": false
   },
   "outputs": [
    {
     "data": {
      "text/plain": [
       "array([-1.71621774, -2.0231389 ,  3.99741747,  3.65833982,  3.87308106])"
      ]
     },
     "execution_count": 20,
     "metadata": {},
     "output_type": "execute_result"
    }
   ],
   "source": [
    "import numpy as np\n",
    "\n",
    "outl = outliers_df.loc[:, 'norm'].values\n",
    "outl = outl[~np.isnan(outl)]\n",
    "outl"
   ]
  },
  {
   "cell_type": "code",
   "execution_count": 21,
   "metadata": {
    "collapsed": false
   },
   "outputs": [],
   "source": [
    "outliers_df.to_csv(\"distributions-10.csv\")"
   ]
  },
  {
   "cell_type": "markdown",
   "metadata": {},
   "source": [
    "## Dataframe for the distributions and bootstraps\n",
    "The dataframe `data_df contains the random data from the distributions."
   ]
  },
  {
   "cell_type": "code",
   "execution_count": 22,
   "metadata": {
    "collapsed": false
   },
   "outputs": [
    {
     "data": {
      "text/html": [
       "<div>\n",
       "<table border=\"1\" class=\"dataframe\">\n",
       "  <thead>\n",
       "    <tr style=\"text-align: right;\">\n",
       "      <th></th>\n",
       "      <th>norm</th>\n",
       "      <th>norm_bs</th>\n",
       "      <th>logn</th>\n",
       "      <th>logn_bs</th>\n",
       "      <th>expo</th>\n",
       "      <th>expo_bs</th>\n",
       "      <th>gumb</th>\n",
       "      <th>gumb_bs</th>\n",
       "      <th>tria</th>\n",
       "      <th>tria_bs</th>\n",
       "    </tr>\n",
       "  </thead>\n",
       "  <tbody>\n",
       "    <tr>\n",
       "      <th>0</th>\n",
       "      <td>0.299878</td>\n",
       "      <td>0.580596</td>\n",
       "      <td>3.017181</td>\n",
       "      <td>2.785559</td>\n",
       "      <td>3.223589</td>\n",
       "      <td>0.022855</td>\n",
       "      <td>9.240645</td>\n",
       "      <td>6.030165</td>\n",
       "      <td>9.692750</td>\n",
       "      <td>4.642694</td>\n",
       "    </tr>\n",
       "    <tr>\n",
       "      <th>1</th>\n",
       "      <td>0.121614</td>\n",
       "      <td>3.097162</td>\n",
       "      <td>1.309427</td>\n",
       "      <td>1.085343</td>\n",
       "      <td>1.218438</td>\n",
       "      <td>0.494060</td>\n",
       "      <td>6.044368</td>\n",
       "      <td>8.733611</td>\n",
       "      <td>9.879563</td>\n",
       "      <td>9.349832</td>\n",
       "    </tr>\n",
       "    <tr>\n",
       "      <th>2</th>\n",
       "      <td>2.273181</td>\n",
       "      <td>2.064806</td>\n",
       "      <td>3.592703</td>\n",
       "      <td>10.371358</td>\n",
       "      <td>1.044162</td>\n",
       "      <td>0.474201</td>\n",
       "      <td>9.023352</td>\n",
       "      <td>10.059520</td>\n",
       "      <td>9.474162</td>\n",
       "      <td>7.081996</td>\n",
       "    </tr>\n",
       "    <tr>\n",
       "      <th>3</th>\n",
       "      <td>-0.531156</td>\n",
       "      <td>-0.572255</td>\n",
       "      <td>0.420418</td>\n",
       "      <td>3.191137</td>\n",
       "      <td>0.223140</td>\n",
       "      <td>0.459265</td>\n",
       "      <td>10.213546</td>\n",
       "      <td>3.653622</td>\n",
       "      <td>8.218846</td>\n",
       "      <td>6.574382</td>\n",
       "    </tr>\n",
       "    <tr>\n",
       "      <th>4</th>\n",
       "      <td>2.363569</td>\n",
       "      <td>-2.023139</td>\n",
       "      <td>6.447925</td>\n",
       "      <td>6.355659</td>\n",
       "      <td>0.052075</td>\n",
       "      <td>1.877795</td>\n",
       "      <td>11.210775</td>\n",
       "      <td>7.822814</td>\n",
       "      <td>6.383881</td>\n",
       "      <td>4.134051</td>\n",
       "    </tr>\n",
       "    <tr>\n",
       "      <th>5</th>\n",
       "      <td>1.900524</td>\n",
       "      <td>0.114500</td>\n",
       "      <td>2.871872</td>\n",
       "      <td>2.982567</td>\n",
       "      <td>1.127510</td>\n",
       "      <td>0.942105</td>\n",
       "      <td>17.677143</td>\n",
       "      <td>4.635653</td>\n",
       "      <td>4.497881</td>\n",
       "      <td>10.777244</td>\n",
       "    </tr>\n",
       "    <tr>\n",
       "      <th>6</th>\n",
       "      <td>-0.798084</td>\n",
       "      <td>1.527657</td>\n",
       "      <td>6.356424</td>\n",
       "      <td>3.781081</td>\n",
       "      <td>0.340717</td>\n",
       "      <td>0.060126</td>\n",
       "      <td>9.658757</td>\n",
       "      <td>5.415161</td>\n",
       "      <td>7.226341</td>\n",
       "      <td>6.872400</td>\n",
       "    </tr>\n",
       "    <tr>\n",
       "      <th>7</th>\n",
       "      <td>1.868980</td>\n",
       "      <td>-0.109336</td>\n",
       "      <td>2.036372</td>\n",
       "      <td>5.215405</td>\n",
       "      <td>0.206496</td>\n",
       "      <td>0.788468</td>\n",
       "      <td>9.045209</td>\n",
       "      <td>8.918653</td>\n",
       "      <td>8.767457</td>\n",
       "      <td>6.322424</td>\n",
       "    </tr>\n",
       "    <tr>\n",
       "      <th>8</th>\n",
       "      <td>1.627284</td>\n",
       "      <td>3.533840</td>\n",
       "      <td>0.784829</td>\n",
       "      <td>2.465988</td>\n",
       "      <td>0.468799</td>\n",
       "      <td>0.860376</td>\n",
       "      <td>14.352910</td>\n",
       "      <td>5.869484</td>\n",
       "      <td>9.208643</td>\n",
       "      <td>8.840234</td>\n",
       "    </tr>\n",
       "    <tr>\n",
       "      <th>9</th>\n",
       "      <td>2.256685</td>\n",
       "      <td>0.121614</td>\n",
       "      <td>0.819875</td>\n",
       "      <td>1.309427</td>\n",
       "      <td>0.127911</td>\n",
       "      <td>1.218438</td>\n",
       "      <td>12.721844</td>\n",
       "      <td>6.044368</td>\n",
       "      <td>7.305003</td>\n",
       "      <td>9.879563</td>\n",
       "    </tr>\n",
       "    <tr>\n",
       "      <th>10</th>\n",
       "      <td>-0.039475</td>\n",
       "      <td>-0.190635</td>\n",
       "      <td>2.565850</td>\n",
       "      <td>1.473147</td>\n",
       "      <td>2.660248</td>\n",
       "      <td>1.337335</td>\n",
       "      <td>8.271464</td>\n",
       "      <td>3.138113</td>\n",
       "      <td>9.003781</td>\n",
       "      <td>9.067871</td>\n",
       "    </tr>\n",
       "    <tr>\n",
       "      <th>11</th>\n",
       "      <td>1.014747</td>\n",
       "      <td>0.511578</td>\n",
       "      <td>13.349656</td>\n",
       "      <td>6.827989</td>\n",
       "      <td>0.577951</td>\n",
       "      <td>0.502006</td>\n",
       "      <td>5.169201</td>\n",
       "      <td>1.256418</td>\n",
       "      <td>6.271003</td>\n",
       "      <td>5.662481</td>\n",
       "    </tr>\n",
       "    <tr>\n",
       "      <th>12</th>\n",
       "      <td>1.957110</td>\n",
       "      <td>2.850862</td>\n",
       "      <td>0.718570</td>\n",
       "      <td>1.586449</td>\n",
       "      <td>0.203743</td>\n",
       "      <td>1.622545</td>\n",
       "      <td>11.343282</td>\n",
       "      <td>4.687881</td>\n",
       "      <td>5.800885</td>\n",
       "      <td>10.023032</td>\n",
       "    </tr>\n",
       "    <tr>\n",
       "      <th>13</th>\n",
       "      <td>-0.109336</td>\n",
       "      <td>1.330592</td>\n",
       "      <td>5.215405</td>\n",
       "      <td>2.351190</td>\n",
       "      <td>0.788468</td>\n",
       "      <td>0.358594</td>\n",
       "      <td>8.918653</td>\n",
       "      <td>3.697748</td>\n",
       "      <td>6.322424</td>\n",
       "      <td>7.170471</td>\n",
       "    </tr>\n",
       "    <tr>\n",
       "      <th>14</th>\n",
       "      <td>1.592497</td>\n",
       "      <td>1.860327</td>\n",
       "      <td>6.491414</td>\n",
       "      <td>6.639627</td>\n",
       "      <td>4.698462</td>\n",
       "      <td>0.425350</td>\n",
       "      <td>6.092398</td>\n",
       "      <td>10.275179</td>\n",
       "      <td>4.517811</td>\n",
       "      <td>5.752396</td>\n",
       "    </tr>\n",
       "    <tr>\n",
       "      <th>15</th>\n",
       "      <td>0.979423</td>\n",
       "      <td>0.970261</td>\n",
       "      <td>1.215372</td>\n",
       "      <td>6.175262</td>\n",
       "      <td>1.736849</td>\n",
       "      <td>1.093917</td>\n",
       "      <td>5.466206</td>\n",
       "      <td>7.228823</td>\n",
       "      <td>6.447618</td>\n",
       "      <td>7.604189</td>\n",
       "    </tr>\n",
       "    <tr>\n",
       "      <th>16</th>\n",
       "      <td>1.335561</td>\n",
       "      <td>1.354685</td>\n",
       "      <td>10.314699</td>\n",
       "      <td>1.432711</td>\n",
       "      <td>1.957884</td>\n",
       "      <td>0.787508</td>\n",
       "      <td>11.272798</td>\n",
       "      <td>4.351504</td>\n",
       "      <td>6.390560</td>\n",
       "      <td>9.398142</td>\n",
       "    </tr>\n",
       "    <tr>\n",
       "      <th>17</th>\n",
       "      <td>0.078595</td>\n",
       "      <td>0.128530</td>\n",
       "      <td>0.807662</td>\n",
       "      <td>4.358265</td>\n",
       "      <td>0.164647</td>\n",
       "      <td>0.692348</td>\n",
       "      <td>16.439093</td>\n",
       "      <td>11.553229</td>\n",
       "      <td>8.671011</td>\n",
       "      <td>2.631009</td>\n",
       "    </tr>\n",
       "    <tr>\n",
       "      <th>18</th>\n",
       "      <td>1.076801</td>\n",
       "      <td>0.684146</td>\n",
       "      <td>11.203869</td>\n",
       "      <td>12.909204</td>\n",
       "      <td>1.585897</td>\n",
       "      <td>0.002674</td>\n",
       "      <td>0.408428</td>\n",
       "      <td>11.107763</td>\n",
       "      <td>8.993727</td>\n",
       "      <td>4.994889</td>\n",
       "    </tr>\n",
       "    <tr>\n",
       "      <th>19</th>\n",
       "      <td>0.719810</td>\n",
       "      <td>1.592497</td>\n",
       "      <td>2.566378</td>\n",
       "      <td>6.491414</td>\n",
       "      <td>0.348781</td>\n",
       "      <td>4.698462</td>\n",
       "      <td>20.211150</td>\n",
       "      <td>6.092398</td>\n",
       "      <td>7.480530</td>\n",
       "      <td>4.517811</td>\n",
       "    </tr>\n",
       "    <tr>\n",
       "      <th>20</th>\n",
       "      <td>2.400936</td>\n",
       "      <td>2.171187</td>\n",
       "      <td>1.758269</td>\n",
       "      <td>5.137025</td>\n",
       "      <td>1.455881</td>\n",
       "      <td>0.486614</td>\n",
       "      <td>8.489817</td>\n",
       "      <td>2.925273</td>\n",
       "      <td>7.705616</td>\n",
       "      <td>6.123006</td>\n",
       "    </tr>\n",
       "    <tr>\n",
       "      <th>21</th>\n",
       "      <td>1.401883</td>\n",
       "      <td>-0.947158</td>\n",
       "      <td>10.199015</td>\n",
       "      <td>4.650157</td>\n",
       "      <td>0.977623</td>\n",
       "      <td>0.691177</td>\n",
       "      <td>4.905308</td>\n",
       "      <td>4.429313</td>\n",
       "      <td>9.556210</td>\n",
       "      <td>9.432541</td>\n",
       "    </tr>\n",
       "    <tr>\n",
       "      <th>22</th>\n",
       "      <td>1.529756</td>\n",
       "      <td>0.844674</td>\n",
       "      <td>7.302792</td>\n",
       "      <td>2.991422</td>\n",
       "      <td>0.218876</td>\n",
       "      <td>1.586352</td>\n",
       "      <td>11.612884</td>\n",
       "      <td>8.999500</td>\n",
       "      <td>7.402227</td>\n",
       "      <td>6.347097</td>\n",
       "    </tr>\n",
       "    <tr>\n",
       "      <th>23</th>\n",
       "      <td>-0.525801</td>\n",
       "      <td>1.036888</td>\n",
       "      <td>0.978251</td>\n",
       "      <td>0.436512</td>\n",
       "      <td>1.396237</td>\n",
       "      <td>2.420953</td>\n",
       "      <td>1.719934</td>\n",
       "      <td>7.615282</td>\n",
       "      <td>6.136506</td>\n",
       "      <td>7.529494</td>\n",
       "    </tr>\n",
       "    <tr>\n",
       "      <th>24</th>\n",
       "      <td>-0.114534</td>\n",
       "      <td>0.721712</td>\n",
       "      <td>0.633482</td>\n",
       "      <td>1.383897</td>\n",
       "      <td>1.636505</td>\n",
       "      <td>0.037369</td>\n",
       "      <td>6.044278</td>\n",
       "      <td>8.450886</td>\n",
       "      <td>6.927332</td>\n",
       "      <td>6.013004</td>\n",
       "    </tr>\n",
       "    <tr>\n",
       "      <th>25</th>\n",
       "      <td>0.780773</td>\n",
       "      <td>0.898013</td>\n",
       "      <td>2.398247</td>\n",
       "      <td>0.729265</td>\n",
       "      <td>1.730714</td>\n",
       "      <td>0.414496</td>\n",
       "      <td>4.948230</td>\n",
       "      <td>12.009093</td>\n",
       "      <td>6.216345</td>\n",
       "      <td>9.034606</td>\n",
       "    </tr>\n",
       "    <tr>\n",
       "      <th>26</th>\n",
       "      <td>1.784067</td>\n",
       "      <td>1.164228</td>\n",
       "      <td>7.729573</td>\n",
       "      <td>1.521038</td>\n",
       "      <td>0.000874</td>\n",
       "      <td>0.944157</td>\n",
       "      <td>11.103841</td>\n",
       "      <td>3.549585</td>\n",
       "      <td>6.680541</td>\n",
       "      <td>7.222155</td>\n",
       "    </tr>\n",
       "    <tr>\n",
       "      <th>27</th>\n",
       "      <td>1.452017</td>\n",
       "      <td>-1.445632</td>\n",
       "      <td>0.233944</td>\n",
       "      <td>1.298755</td>\n",
       "      <td>0.125572</td>\n",
       "      <td>0.009022</td>\n",
       "      <td>2.085036</td>\n",
       "      <td>6.406096</td>\n",
       "      <td>6.701453</td>\n",
       "      <td>5.981400</td>\n",
       "    </tr>\n",
       "    <tr>\n",
       "      <th>28</th>\n",
       "      <td>0.059353</td>\n",
       "      <td>0.844674</td>\n",
       "      <td>7.071840</td>\n",
       "      <td>2.991422</td>\n",
       "      <td>0.717012</td>\n",
       "      <td>1.586352</td>\n",
       "      <td>2.630917</td>\n",
       "      <td>8.999500</td>\n",
       "      <td>5.029980</td>\n",
       "      <td>6.347097</td>\n",
       "    </tr>\n",
       "    <tr>\n",
       "      <th>29</th>\n",
       "      <td>0.888406</td>\n",
       "      <td>-0.538805</td>\n",
       "      <td>3.970375</td>\n",
       "      <td>2.267352</td>\n",
       "      <td>0.688131</td>\n",
       "      <td>0.097912</td>\n",
       "      <td>4.985695</td>\n",
       "      <td>11.700933</td>\n",
       "      <td>8.760320</td>\n",
       "      <td>10.607697</td>\n",
       "    </tr>\n",
       "    <tr>\n",
       "      <th>...</th>\n",
       "      <td>...</td>\n",
       "      <td>...</td>\n",
       "      <td>...</td>\n",
       "      <td>...</td>\n",
       "      <td>...</td>\n",
       "      <td>...</td>\n",
       "      <td>...</td>\n",
       "      <td>...</td>\n",
       "      <td>...</td>\n",
       "      <td>...</td>\n",
       "    </tr>\n",
       "    <tr>\n",
       "      <th>470</th>\n",
       "      <td>-1.386765</td>\n",
       "      <td>-0.656889</td>\n",
       "      <td>19.641875</td>\n",
       "      <td>2.808113</td>\n",
       "      <td>0.447080</td>\n",
       "      <td>0.658823</td>\n",
       "      <td>6.451313</td>\n",
       "      <td>8.848662</td>\n",
       "      <td>3.351578</td>\n",
       "      <td>7.665189</td>\n",
       "    </tr>\n",
       "    <tr>\n",
       "      <th>471</th>\n",
       "      <td>0.723960</td>\n",
       "      <td>1.769530</td>\n",
       "      <td>24.235800</td>\n",
       "      <td>4.044127</td>\n",
       "      <td>1.218233</td>\n",
       "      <td>0.682368</td>\n",
       "      <td>8.045775</td>\n",
       "      <td>9.320447</td>\n",
       "      <td>7.478218</td>\n",
       "      <td>6.537498</td>\n",
       "    </tr>\n",
       "    <tr>\n",
       "      <th>472</th>\n",
       "      <td>-0.113361</td>\n",
       "      <td>0.150894</td>\n",
       "      <td>0.404983</td>\n",
       "      <td>1.166854</td>\n",
       "      <td>0.792475</td>\n",
       "      <td>0.146571</td>\n",
       "      <td>2.269841</td>\n",
       "      <td>9.182850</td>\n",
       "      <td>6.273872</td>\n",
       "      <td>8.067534</td>\n",
       "    </tr>\n",
       "    <tr>\n",
       "      <th>473</th>\n",
       "      <td>0.495714</td>\n",
       "      <td>-0.319271</td>\n",
       "      <td>0.944814</td>\n",
       "      <td>3.196751</td>\n",
       "      <td>0.785507</td>\n",
       "      <td>0.820002</td>\n",
       "      <td>1.994440</td>\n",
       "      <td>7.309250</td>\n",
       "      <td>9.029582</td>\n",
       "      <td>5.641242</td>\n",
       "    </tr>\n",
       "    <tr>\n",
       "      <th>474</th>\n",
       "      <td>1.895839</td>\n",
       "      <td>1.268572</td>\n",
       "      <td>1.748440</td>\n",
       "      <td>1.931252</td>\n",
       "      <td>2.997831</td>\n",
       "      <td>1.727835</td>\n",
       "      <td>8.257774</td>\n",
       "      <td>16.816734</td>\n",
       "      <td>10.245350</td>\n",
       "      <td>7.354815</td>\n",
       "    </tr>\n",
       "    <tr>\n",
       "      <th>475</th>\n",
       "      <td>-0.040117</td>\n",
       "      <td>1.377924</td>\n",
       "      <td>2.409752</td>\n",
       "      <td>6.807574</td>\n",
       "      <td>0.093489</td>\n",
       "      <td>0.482624</td>\n",
       "      <td>3.659834</td>\n",
       "      <td>9.781436</td>\n",
       "      <td>5.638204</td>\n",
       "      <td>7.920935</td>\n",
       "    </tr>\n",
       "    <tr>\n",
       "      <th>476</th>\n",
       "      <td>1.636469</td>\n",
       "      <td>2.471129</td>\n",
       "      <td>13.804881</td>\n",
       "      <td>6.252210</td>\n",
       "      <td>1.328787</td>\n",
       "      <td>1.750503</td>\n",
       "      <td>4.559687</td>\n",
       "      <td>4.064261</td>\n",
       "      <td>7.852643</td>\n",
       "      <td>10.460303</td>\n",
       "    </tr>\n",
       "    <tr>\n",
       "      <th>477</th>\n",
       "      <td>1.231891</td>\n",
       "      <td>3.094606</td>\n",
       "      <td>1.707471</td>\n",
       "      <td>4.681173</td>\n",
       "      <td>0.055138</td>\n",
       "      <td>0.650434</td>\n",
       "      <td>3.255392</td>\n",
       "      <td>4.002661</td>\n",
       "      <td>4.943444</td>\n",
       "      <td>5.164748</td>\n",
       "    </tr>\n",
       "    <tr>\n",
       "      <th>478</th>\n",
       "      <td>1.213650</td>\n",
       "      <td>2.616216</td>\n",
       "      <td>1.620516</td>\n",
       "      <td>4.526134</td>\n",
       "      <td>0.205642</td>\n",
       "      <td>0.775911</td>\n",
       "      <td>0.499784</td>\n",
       "      <td>2.696799</td>\n",
       "      <td>9.724513</td>\n",
       "      <td>7.492072</td>\n",
       "    </tr>\n",
       "    <tr>\n",
       "      <th>479</th>\n",
       "      <td>1.408822</td>\n",
       "      <td>1.350668</td>\n",
       "      <td>0.706252</td>\n",
       "      <td>2.305319</td>\n",
       "      <td>0.158408</td>\n",
       "      <td>0.308839</td>\n",
       "      <td>9.176332</td>\n",
       "      <td>6.883270</td>\n",
       "      <td>6.050357</td>\n",
       "      <td>4.401019</td>\n",
       "    </tr>\n",
       "    <tr>\n",
       "      <th>480</th>\n",
       "      <td>-0.393357</td>\n",
       "      <td>1.076582</td>\n",
       "      <td>2.796330</td>\n",
       "      <td>17.427656</td>\n",
       "      <td>0.098396</td>\n",
       "      <td>0.180272</td>\n",
       "      <td>10.340879</td>\n",
       "      <td>15.827297</td>\n",
       "      <td>2.705928</td>\n",
       "      <td>3.473927</td>\n",
       "    </tr>\n",
       "    <tr>\n",
       "      <th>481</th>\n",
       "      <td>0.261660</td>\n",
       "      <td>0.024130</td>\n",
       "      <td>0.546768</td>\n",
       "      <td>4.215875</td>\n",
       "      <td>1.395534</td>\n",
       "      <td>1.557848</td>\n",
       "      <td>11.990494</td>\n",
       "      <td>2.866014</td>\n",
       "      <td>4.702067</td>\n",
       "      <td>8.259374</td>\n",
       "    </tr>\n",
       "    <tr>\n",
       "      <th>482</th>\n",
       "      <td>2.277047</td>\n",
       "      <td>0.887281</td>\n",
       "      <td>4.027750</td>\n",
       "      <td>2.473731</td>\n",
       "      <td>0.212037</td>\n",
       "      <td>1.615103</td>\n",
       "      <td>2.041102</td>\n",
       "      <td>8.787766</td>\n",
       "      <td>7.399578</td>\n",
       "      <td>4.167063</td>\n",
       "    </tr>\n",
       "    <tr>\n",
       "      <th>483</th>\n",
       "      <td>0.368308</td>\n",
       "      <td>0.898758</td>\n",
       "      <td>4.669197</td>\n",
       "      <td>7.128836</td>\n",
       "      <td>2.123597</td>\n",
       "      <td>0.570969</td>\n",
       "      <td>9.591685</td>\n",
       "      <td>5.553431</td>\n",
       "      <td>9.215707</td>\n",
       "      <td>5.310686</td>\n",
       "    </tr>\n",
       "    <tr>\n",
       "      <th>484</th>\n",
       "      <td>0.697608</td>\n",
       "      <td>0.459906</td>\n",
       "      <td>3.453810</td>\n",
       "      <td>2.854110</td>\n",
       "      <td>0.056059</td>\n",
       "      <td>1.081744</td>\n",
       "      <td>8.899619</td>\n",
       "      <td>3.449613</td>\n",
       "      <td>6.395410</td>\n",
       "      <td>7.203046</td>\n",
       "    </tr>\n",
       "    <tr>\n",
       "      <th>485</th>\n",
       "      <td>2.257368</td>\n",
       "      <td>0.511578</td>\n",
       "      <td>2.672668</td>\n",
       "      <td>6.827989</td>\n",
       "      <td>1.729783</td>\n",
       "      <td>0.502006</td>\n",
       "      <td>11.757765</td>\n",
       "      <td>1.256418</td>\n",
       "      <td>8.066611</td>\n",
       "      <td>5.662481</td>\n",
       "    </tr>\n",
       "    <tr>\n",
       "      <th>486</th>\n",
       "      <td>1.321045</td>\n",
       "      <td>1.407133</td>\n",
       "      <td>1.411090</td>\n",
       "      <td>2.216230</td>\n",
       "      <td>3.626841</td>\n",
       "      <td>0.211338</td>\n",
       "      <td>3.387946</td>\n",
       "      <td>8.406165</td>\n",
       "      <td>4.997484</td>\n",
       "      <td>6.886904</td>\n",
       "    </tr>\n",
       "    <tr>\n",
       "      <th>487</th>\n",
       "      <td>1.326098</td>\n",
       "      <td>1.172969</td>\n",
       "      <td>3.289757</td>\n",
       "      <td>16.967496</td>\n",
       "      <td>0.835316</td>\n",
       "      <td>0.099185</td>\n",
       "      <td>0.902191</td>\n",
       "      <td>5.352129</td>\n",
       "      <td>9.618445</td>\n",
       "      <td>6.767074</td>\n",
       "    </tr>\n",
       "    <tr>\n",
       "      <th>488</th>\n",
       "      <td>0.602061</td>\n",
       "      <td>2.129496</td>\n",
       "      <td>0.366474</td>\n",
       "      <td>2.056398</td>\n",
       "      <td>0.061630</td>\n",
       "      <td>0.024612</td>\n",
       "      <td>15.310002</td>\n",
       "      <td>8.618826</td>\n",
       "      <td>7.464105</td>\n",
       "      <td>5.860151</td>\n",
       "    </tr>\n",
       "    <tr>\n",
       "      <th>489</th>\n",
       "      <td>0.838260</td>\n",
       "      <td>-0.619246</td>\n",
       "      <td>1.823569</td>\n",
       "      <td>13.771003</td>\n",
       "      <td>0.327281</td>\n",
       "      <td>1.224029</td>\n",
       "      <td>19.558052</td>\n",
       "      <td>12.201801</td>\n",
       "      <td>7.970442</td>\n",
       "      <td>8.434977</td>\n",
       "    </tr>\n",
       "    <tr>\n",
       "      <th>490</th>\n",
       "      <td>0.379433</td>\n",
       "      <td>1.458761</td>\n",
       "      <td>0.570442</td>\n",
       "      <td>8.586155</td>\n",
       "      <td>0.244041</td>\n",
       "      <td>0.879850</td>\n",
       "      <td>5.874465</td>\n",
       "      <td>5.782844</td>\n",
       "      <td>5.728030</td>\n",
       "      <td>2.731286</td>\n",
       "    </tr>\n",
       "    <tr>\n",
       "      <th>491</th>\n",
       "      <td>0.347454</td>\n",
       "      <td>1.087789</td>\n",
       "      <td>5.638388</td>\n",
       "      <td>8.985361</td>\n",
       "      <td>0.137806</td>\n",
       "      <td>3.405573</td>\n",
       "      <td>13.520260</td>\n",
       "      <td>13.530942</td>\n",
       "      <td>10.117627</td>\n",
       "      <td>6.393491</td>\n",
       "    </tr>\n",
       "    <tr>\n",
       "      <th>492</th>\n",
       "      <td>1.159011</td>\n",
       "      <td>0.455884</td>\n",
       "      <td>4.546128</td>\n",
       "      <td>4.384782</td>\n",
       "      <td>0.124021</td>\n",
       "      <td>0.160544</td>\n",
       "      <td>2.780901</td>\n",
       "      <td>4.519495</td>\n",
       "      <td>8.774086</td>\n",
       "      <td>9.385035</td>\n",
       "    </tr>\n",
       "    <tr>\n",
       "      <th>493</th>\n",
       "      <td>1.918179</td>\n",
       "      <td>0.392454</td>\n",
       "      <td>2.505855</td>\n",
       "      <td>0.738800</td>\n",
       "      <td>0.059281</td>\n",
       "      <td>0.038887</td>\n",
       "      <td>6.079526</td>\n",
       "      <td>12.522391</td>\n",
       "      <td>6.447637</td>\n",
       "      <td>5.308879</td>\n",
       "    </tr>\n",
       "    <tr>\n",
       "      <th>494</th>\n",
       "      <td>1.650229</td>\n",
       "      <td>1.948198</td>\n",
       "      <td>1.541739</td>\n",
       "      <td>2.898825</td>\n",
       "      <td>1.658877</td>\n",
       "      <td>1.603862</td>\n",
       "      <td>6.651671</td>\n",
       "      <td>10.993022</td>\n",
       "      <td>10.546077</td>\n",
       "      <td>8.208258</td>\n",
       "    </tr>\n",
       "    <tr>\n",
       "      <th>495</th>\n",
       "      <td>0.885051</td>\n",
       "      <td>0.664907</td>\n",
       "      <td>4.347269</td>\n",
       "      <td>7.727928</td>\n",
       "      <td>0.902132</td>\n",
       "      <td>1.220691</td>\n",
       "      <td>8.281158</td>\n",
       "      <td>7.018340</td>\n",
       "      <td>4.413506</td>\n",
       "      <td>8.075064</td>\n",
       "    </tr>\n",
       "    <tr>\n",
       "      <th>496</th>\n",
       "      <td>1.354685</td>\n",
       "      <td>0.637069</td>\n",
       "      <td>1.432711</td>\n",
       "      <td>8.031743</td>\n",
       "      <td>0.787508</td>\n",
       "      <td>0.501901</td>\n",
       "      <td>4.351504</td>\n",
       "      <td>2.946852</td>\n",
       "      <td>9.398142</td>\n",
       "      <td>10.117269</td>\n",
       "    </tr>\n",
       "    <tr>\n",
       "      <th>497</th>\n",
       "      <td>0.649363</td>\n",
       "      <td>0.885051</td>\n",
       "      <td>5.643498</td>\n",
       "      <td>4.347269</td>\n",
       "      <td>1.403187</td>\n",
       "      <td>0.902132</td>\n",
       "      <td>12.101452</td>\n",
       "      <td>8.281158</td>\n",
       "      <td>7.530090</td>\n",
       "      <td>4.413506</td>\n",
       "    </tr>\n",
       "    <tr>\n",
       "      <th>498</th>\n",
       "      <td>2.001306</td>\n",
       "      <td>1.301371</td>\n",
       "      <td>10.405495</td>\n",
       "      <td>0.627237</td>\n",
       "      <td>1.889493</td>\n",
       "      <td>0.467425</td>\n",
       "      <td>7.745415</td>\n",
       "      <td>19.028507</td>\n",
       "      <td>5.510691</td>\n",
       "      <td>8.674338</td>\n",
       "    </tr>\n",
       "    <tr>\n",
       "      <th>499</th>\n",
       "      <td>1.515539</td>\n",
       "      <td>0.721884</td>\n",
       "      <td>3.233186</td>\n",
       "      <td>7.769891</td>\n",
       "      <td>2.382125</td>\n",
       "      <td>1.792893</td>\n",
       "      <td>10.014411</td>\n",
       "      <td>10.374352</td>\n",
       "      <td>7.404607</td>\n",
       "      <td>6.309234</td>\n",
       "    </tr>\n",
       "  </tbody>\n",
       "</table>\n",
       "<p>500 rows × 10 columns</p>\n",
       "</div>"
      ],
      "text/plain": [
       "         norm   norm_bs       logn    logn_bs      expo   expo_bs       gumb  \\\n",
       "0    0.299878  0.580596   3.017181   2.785559  3.223589  0.022855   9.240645   \n",
       "1    0.121614  3.097162   1.309427   1.085343  1.218438  0.494060   6.044368   \n",
       "2    2.273181  2.064806   3.592703  10.371358  1.044162  0.474201   9.023352   \n",
       "3   -0.531156 -0.572255   0.420418   3.191137  0.223140  0.459265  10.213546   \n",
       "4    2.363569 -2.023139   6.447925   6.355659  0.052075  1.877795  11.210775   \n",
       "5    1.900524  0.114500   2.871872   2.982567  1.127510  0.942105  17.677143   \n",
       "6   -0.798084  1.527657   6.356424   3.781081  0.340717  0.060126   9.658757   \n",
       "7    1.868980 -0.109336   2.036372   5.215405  0.206496  0.788468   9.045209   \n",
       "8    1.627284  3.533840   0.784829   2.465988  0.468799  0.860376  14.352910   \n",
       "9    2.256685  0.121614   0.819875   1.309427  0.127911  1.218438  12.721844   \n",
       "10  -0.039475 -0.190635   2.565850   1.473147  2.660248  1.337335   8.271464   \n",
       "11   1.014747  0.511578  13.349656   6.827989  0.577951  0.502006   5.169201   \n",
       "12   1.957110  2.850862   0.718570   1.586449  0.203743  1.622545  11.343282   \n",
       "13  -0.109336  1.330592   5.215405   2.351190  0.788468  0.358594   8.918653   \n",
       "14   1.592497  1.860327   6.491414   6.639627  4.698462  0.425350   6.092398   \n",
       "15   0.979423  0.970261   1.215372   6.175262  1.736849  1.093917   5.466206   \n",
       "16   1.335561  1.354685  10.314699   1.432711  1.957884  0.787508  11.272798   \n",
       "17   0.078595  0.128530   0.807662   4.358265  0.164647  0.692348  16.439093   \n",
       "18   1.076801  0.684146  11.203869  12.909204  1.585897  0.002674   0.408428   \n",
       "19   0.719810  1.592497   2.566378   6.491414  0.348781  4.698462  20.211150   \n",
       "20   2.400936  2.171187   1.758269   5.137025  1.455881  0.486614   8.489817   \n",
       "21   1.401883 -0.947158  10.199015   4.650157  0.977623  0.691177   4.905308   \n",
       "22   1.529756  0.844674   7.302792   2.991422  0.218876  1.586352  11.612884   \n",
       "23  -0.525801  1.036888   0.978251   0.436512  1.396237  2.420953   1.719934   \n",
       "24  -0.114534  0.721712   0.633482   1.383897  1.636505  0.037369   6.044278   \n",
       "25   0.780773  0.898013   2.398247   0.729265  1.730714  0.414496   4.948230   \n",
       "26   1.784067  1.164228   7.729573   1.521038  0.000874  0.944157  11.103841   \n",
       "27   1.452017 -1.445632   0.233944   1.298755  0.125572  0.009022   2.085036   \n",
       "28   0.059353  0.844674   7.071840   2.991422  0.717012  1.586352   2.630917   \n",
       "29   0.888406 -0.538805   3.970375   2.267352  0.688131  0.097912   4.985695   \n",
       "..        ...       ...        ...        ...       ...       ...        ...   \n",
       "470 -1.386765 -0.656889  19.641875   2.808113  0.447080  0.658823   6.451313   \n",
       "471  0.723960  1.769530  24.235800   4.044127  1.218233  0.682368   8.045775   \n",
       "472 -0.113361  0.150894   0.404983   1.166854  0.792475  0.146571   2.269841   \n",
       "473  0.495714 -0.319271   0.944814   3.196751  0.785507  0.820002   1.994440   \n",
       "474  1.895839  1.268572   1.748440   1.931252  2.997831  1.727835   8.257774   \n",
       "475 -0.040117  1.377924   2.409752   6.807574  0.093489  0.482624   3.659834   \n",
       "476  1.636469  2.471129  13.804881   6.252210  1.328787  1.750503   4.559687   \n",
       "477  1.231891  3.094606   1.707471   4.681173  0.055138  0.650434   3.255392   \n",
       "478  1.213650  2.616216   1.620516   4.526134  0.205642  0.775911   0.499784   \n",
       "479  1.408822  1.350668   0.706252   2.305319  0.158408  0.308839   9.176332   \n",
       "480 -0.393357  1.076582   2.796330  17.427656  0.098396  0.180272  10.340879   \n",
       "481  0.261660  0.024130   0.546768   4.215875  1.395534  1.557848  11.990494   \n",
       "482  2.277047  0.887281   4.027750   2.473731  0.212037  1.615103   2.041102   \n",
       "483  0.368308  0.898758   4.669197   7.128836  2.123597  0.570969   9.591685   \n",
       "484  0.697608  0.459906   3.453810   2.854110  0.056059  1.081744   8.899619   \n",
       "485  2.257368  0.511578   2.672668   6.827989  1.729783  0.502006  11.757765   \n",
       "486  1.321045  1.407133   1.411090   2.216230  3.626841  0.211338   3.387946   \n",
       "487  1.326098  1.172969   3.289757  16.967496  0.835316  0.099185   0.902191   \n",
       "488  0.602061  2.129496   0.366474   2.056398  0.061630  0.024612  15.310002   \n",
       "489  0.838260 -0.619246   1.823569  13.771003  0.327281  1.224029  19.558052   \n",
       "490  0.379433  1.458761   0.570442   8.586155  0.244041  0.879850   5.874465   \n",
       "491  0.347454  1.087789   5.638388   8.985361  0.137806  3.405573  13.520260   \n",
       "492  1.159011  0.455884   4.546128   4.384782  0.124021  0.160544   2.780901   \n",
       "493  1.918179  0.392454   2.505855   0.738800  0.059281  0.038887   6.079526   \n",
       "494  1.650229  1.948198   1.541739   2.898825  1.658877  1.603862   6.651671   \n",
       "495  0.885051  0.664907   4.347269   7.727928  0.902132  1.220691   8.281158   \n",
       "496  1.354685  0.637069   1.432711   8.031743  0.787508  0.501901   4.351504   \n",
       "497  0.649363  0.885051   5.643498   4.347269  1.403187  0.902132  12.101452   \n",
       "498  2.001306  1.301371  10.405495   0.627237  1.889493  0.467425   7.745415   \n",
       "499  1.515539  0.721884   3.233186   7.769891  2.382125  1.792893  10.014411   \n",
       "\n",
       "       gumb_bs       tria    tria_bs  \n",
       "0     6.030165   9.692750   4.642694  \n",
       "1     8.733611   9.879563   9.349832  \n",
       "2    10.059520   9.474162   7.081996  \n",
       "3     3.653622   8.218846   6.574382  \n",
       "4     7.822814   6.383881   4.134051  \n",
       "5     4.635653   4.497881  10.777244  \n",
       "6     5.415161   7.226341   6.872400  \n",
       "7     8.918653   8.767457   6.322424  \n",
       "8     5.869484   9.208643   8.840234  \n",
       "9     6.044368   7.305003   9.879563  \n",
       "10    3.138113   9.003781   9.067871  \n",
       "11    1.256418   6.271003   5.662481  \n",
       "12    4.687881   5.800885  10.023032  \n",
       "13    3.697748   6.322424   7.170471  \n",
       "14   10.275179   4.517811   5.752396  \n",
       "15    7.228823   6.447618   7.604189  \n",
       "16    4.351504   6.390560   9.398142  \n",
       "17   11.553229   8.671011   2.631009  \n",
       "18   11.107763   8.993727   4.994889  \n",
       "19    6.092398   7.480530   4.517811  \n",
       "20    2.925273   7.705616   6.123006  \n",
       "21    4.429313   9.556210   9.432541  \n",
       "22    8.999500   7.402227   6.347097  \n",
       "23    7.615282   6.136506   7.529494  \n",
       "24    8.450886   6.927332   6.013004  \n",
       "25   12.009093   6.216345   9.034606  \n",
       "26    3.549585   6.680541   7.222155  \n",
       "27    6.406096   6.701453   5.981400  \n",
       "28    8.999500   5.029980   6.347097  \n",
       "29   11.700933   8.760320  10.607697  \n",
       "..         ...        ...        ...  \n",
       "470   8.848662   3.351578   7.665189  \n",
       "471   9.320447   7.478218   6.537498  \n",
       "472   9.182850   6.273872   8.067534  \n",
       "473   7.309250   9.029582   5.641242  \n",
       "474  16.816734  10.245350   7.354815  \n",
       "475   9.781436   5.638204   7.920935  \n",
       "476   4.064261   7.852643  10.460303  \n",
       "477   4.002661   4.943444   5.164748  \n",
       "478   2.696799   9.724513   7.492072  \n",
       "479   6.883270   6.050357   4.401019  \n",
       "480  15.827297   2.705928   3.473927  \n",
       "481   2.866014   4.702067   8.259374  \n",
       "482   8.787766   7.399578   4.167063  \n",
       "483   5.553431   9.215707   5.310686  \n",
       "484   3.449613   6.395410   7.203046  \n",
       "485   1.256418   8.066611   5.662481  \n",
       "486   8.406165   4.997484   6.886904  \n",
       "487   5.352129   9.618445   6.767074  \n",
       "488   8.618826   7.464105   5.860151  \n",
       "489  12.201801   7.970442   8.434977  \n",
       "490   5.782844   5.728030   2.731286  \n",
       "491  13.530942  10.117627   6.393491  \n",
       "492   4.519495   8.774086   9.385035  \n",
       "493  12.522391   6.447637   5.308879  \n",
       "494  10.993022  10.546077   8.208258  \n",
       "495   7.018340   4.413506   8.075064  \n",
       "496   2.946852   9.398142  10.117269  \n",
       "497   8.281158   7.530090   4.413506  \n",
       "498  19.028507   5.510691   8.674338  \n",
       "499  10.374352   7.404607   6.309234  \n",
       "\n",
       "[500 rows x 10 columns]"
      ]
     },
     "execution_count": 22,
     "metadata": {},
     "output_type": "execute_result"
    }
   ],
   "source": [
    "data_df = pd.DataFrame(data).transpose()\n",
    "distrib = ['norm', 'norm_bs', 'logn', 'logn_bs', 'expo', 'expo_bs', 'gumb', 'gumb_bs',\n",
    "                'tria', 'tria_bs']\n",
    "data_df.columns = distrib\n",
    "data_df"
   ]
  },
  {
   "cell_type": "markdown",
   "metadata": {},
   "source": [
    "## Plotting the distributions (raw data) with boxplot"
   ]
  },
  {
   "cell_type": "markdown",
   "metadata": {},
   "source": [
    "## `x` is the variable"
   ]
  },
  {
   "cell_type": "code",
   "execution_count": 23,
   "metadata": {
    "collapsed": true
   },
   "outputs": [],
   "source": [
    "x = data_df['norm']"
   ]
  },
  {
   "cell_type": "code",
   "execution_count": 24,
   "metadata": {
    "collapsed": false
   },
   "outputs": [
    {
     "data": {
      "image/png": "[encoded data removed]",
      "text/plain": [
       "<matplotlib.figure.Figure at 0x861e170>"
      ]
     },
     "metadata": {},
     "output_type": "display_data"
    }
   ],
   "source": [
    "%matplotlib inline\n",
    "\n",
    "import scipy.stats as stats\n",
    "import seaborn as sns\n",
    "\n",
    "# The error bars indicate 1.5* the inter-quartile-range (IQR), and the box consists of the\n",
    "# first, second (middle) and third quartile\n",
    "plt.boxplot(x, sym='*', whis=1.5)          #: whis default value is 1.5\n",
    "plt.title('raw data')\n",
    "plt.ylabel('Values')\n",
    "plt.show()"
   ]
  },
  {
   "cell_type": "markdown",
   "metadata": {},
   "source": [
    "# About our normal distribution"
   ]
  },
  {
   "cell_type": "markdown",
   "metadata": {},
   "source": [
    "## Histogram of the normal distribution"
   ]
  },
  {
   "cell_type": "code",
   "execution_count": 25,
   "metadata": {
    "collapsed": false
   },
   "outputs": [
    {
     "data": {
      "image/png": "[encoded data removed]",
      "text/plain": [
       "<matplotlib.figure.Figure at 0x869b150>"
      ]
     },
     "metadata": {},
     "output_type": "display_data"
    }
   ],
   "source": [
    ">>> from scipy.stats import norm\n",
    ">>> import matplotlib.pyplot as plt\n",
    ">>> fig, ax = plt.subplots(1, 1)\n",
    "\n",
    "ax.hist(x, normed=True, histtype='stepfilled', alpha=0.2)\n",
    "plt.show()"
   ]
  },
  {
   "cell_type": "markdown",
   "metadata": {},
   "source": [
    "## Significant values from the normal"
   ]
  },
  {
   "cell_type": "code",
   "execution_count": 26,
   "metadata": {
    "collapsed": false
   },
   "outputs": [
    {
     "data": {
      "text/plain": [
       "(0.95753335262567729,\n",
       " 3.9974174716057265,\n",
       " -2.0231389015981907,\n",
       " 1.0247642967854433)"
      ]
     },
     "execution_count": 26,
     "metadata": {},
     "output_type": "execute_result"
    }
   ],
   "source": [
    "x.mean(), x.max(), x.min(), x.var()"
   ]
  },
  {
   "cell_type": "code",
   "execution_count": 27,
   "metadata": {
    "collapsed": false
   },
   "outputs": [
    {
     "name": "stdout",
     "output_type": "stream",
     "text": [
      "500 (-2.0231389015981907, 3.9974174716057265) 0.957533352626 1.02476429679 0.00612307648594 -0.0115928125691\n"
     ]
    }
   ],
   "source": [
    "n, (smin, smax), sm, sv, ss, sk = stats.describe(x)\n",
    "print(n, (smin, smax), sm, sv, ss, sk)"
   ]
  },
  {
   "cell_type": "markdown",
   "metadata": {},
   "source": [
    "## Skewness and Kurtosis"
   ]
  },
  {
   "cell_type": "code",
   "execution_count": 28,
   "metadata": {
    "collapsed": false
   },
   "outputs": [
    {
     "name": "stdout",
     "output_type": "stream",
     "text": [
      "mean = 0.9575, variance = 1.0248, skew = 0.0061, kurtosis = -0.0116\n"
     ]
    }
   ],
   "source": [
    "sstr = 'mean = %6.4f, variance = %6.4f, skew = %6.4f, kurtosis = %6.4f'\n",
    "print(sstr % (sm, sv, ss, sk))"
   ]
  },
  {
   "cell_type": "code",
   "execution_count": 29,
   "metadata": {
    "collapsed": false
   },
   "outputs": [
    {
     "name": "stdout",
     "output_type": "stream",
     "text": [
      "KS-statistic D =  0.382 pvalue = 0.0000\n"
     ]
    }
   ],
   "source": [
    "print('KS-statistic D = %6.3f pvalue = %6.4f' % stats.kstest(x,'norm'))"
   ]
  },
  {
   "cell_type": "code",
   "execution_count": 30,
   "metadata": {
    "collapsed": false
   },
   "outputs": [
    {
     "name": "stdout",
     "output_type": "stream",
     "text": [
      "KS-statistic D =  0.021 pvalue = 0.9809\n"
     ]
    }
   ],
   "source": [
    ">>> d, pval = stats.kstest((x-x.mean())/x.std(), 'norm')\n",
    ">>> print('KS-statistic D = %6.3f pvalue = %6.4f' % (d, pval))"
   ]
  },
  {
   "cell_type": "markdown",
   "metadata": {},
   "source": [
    "## Values for a theoretical normal"
   ]
  },
  {
   "cell_type": "code",
   "execution_count": 31,
   "metadata": {
    "collapsed": true
   },
   "outputs": [],
   "source": [
    ">>> m, v, s, k = stats.t.stats(10, moments='mvsk')"
   ]
  },
  {
   "cell_type": "code",
   "execution_count": 32,
   "metadata": {
    "collapsed": false
   },
   "outputs": [
    {
     "name": "stdout",
     "output_type": "stream",
     "text": [
      "mean = 0.0000, variance = 1.2500, skew = 0.0000, kurtosis = 1.0000\n"
     ]
    }
   ],
   "source": [
    "print(sstr %(m, v, s ,k))"
   ]
  },
  {
   "cell_type": "markdown",
   "metadata": {},
   "source": [
    "# Investigating the distributions"
   ]
  },
  {
   "cell_type": "markdown",
   "metadata": {},
   "source": [
    "## Finding the IQR for a distribution"
   ]
  },
  {
   "cell_type": "code",
   "execution_count": 33,
   "metadata": {
    "collapsed": true
   },
   "outputs": [],
   "source": [
    "x = data_df['norm']"
   ]
  },
  {
   "cell_type": "code",
   "execution_count": 34,
   "metadata": {
    "collapsed": false
   },
   "outputs": [
    {
     "data": {
      "text/plain": [
       "array([ 0.30017884,  0.95105182,  1.62719461])"
      ]
     },
     "execution_count": 34,
     "metadata": {},
     "output_type": "execute_result"
    }
   ],
   "source": [
    "perc_arr = np.percentile(x, [25, 50, 75])\n",
    "perc_arr"
   ]
  },
  {
   "cell_type": "code",
   "execution_count": 35,
   "metadata": {
    "collapsed": false
   },
   "outputs": [
    {
     "name": "stdout",
     "output_type": "stream",
     "text": [
      "[ 1.32701577] [ 1.99052366] [ 3.61771826] [-1.69034482]\n"
     ]
    }
   ],
   "source": [
    "q3 = np.percentile(x, [75])\n",
    "q1 = np.percentile(x, [25])\n",
    "iqr = q3 - q1 \n",
    "iqr_15 = iqr*1.5\n",
    "print(iqr, iqr*1.5, q3+iqr_15, q1-iqr_15)"
   ]
  },
  {
   "cell_type": "markdown",
   "metadata": {},
   "source": [
    "## A function to get percentiles from any distribution"
   ]
  },
  {
   "cell_type": "markdown",
   "metadata": {},
   "source": [
    "`L-whis` is the lower whisker or the `q1` less `1.5` times the `IQR`.\n",
    "\n",
    "`U-whis` is the upper whisker or the `q3` plus `1.5` times the `IQR.\n",
    "\n"
   ]
  },
  {
   "cell_type": "code",
   "execution_count": 36,
   "metadata": {
    "collapsed": false
   },
   "outputs": [],
   "source": [
    "def show_percentiles(dist_name='norm'):\n",
    "    var = data_df.loc[:, dist_name].values\n",
    "    iqr = np.percentile(var, 75) - np.percentile(var, 25)\n",
    "    iqr = np.subtract(*np.percentile(x, [75, 25]))\n",
    "    print()\n",
    "    print(\"{0:8s}{1}\".format(\"min:\",    np.min(var)))\n",
    "    print(\"{0:8s}{1}\".format(\"L-whis:\", np.percentile(var, 25)-1.5*iqr))   \n",
    "    print(\"{0:8s}{1}\".format(\"q1:\",     np.percentile(var, 25)))\n",
    "    print(\"{0:8s}{1}\".format(\"median\",  np.percentile(var, 50)))    # median!\n",
    "    print(\"{0:8s}{1}\".format(\"q3\",      np.percentile(var, 75)))    # q3\n",
    "    print(\"{0:8s}{1}\".format(\"U-whis:\", np.percentile(var, 75)+1.5*iqr))    \n",
    "    print(\"{0:8s}{1}\".format(\"max:\",    np.max(var)))\n",
    "    print()\n",
    "    print(\"{0:8s}{1}\".format(\"IQR:\",    iqr))"
   ]
  },
  {
   "cell_type": "markdown",
   "metadata": {},
   "source": [
    "## Percentiles for the `normal`"
   ]
  },
  {
   "cell_type": "code",
   "execution_count": 37,
   "metadata": {
    "collapsed": false
   },
   "outputs": [
    {
     "name": "stdout",
     "output_type": "stream",
     "text": [
      "\n",
      "min:    -2.0231389016\n",
      "L-whis: -1.69034481656\n",
      "q1:     0.300178838797\n",
      "median  0.951051816399\n",
      "q3      1.62719460903\n",
      "U-whis: 3.61771826439\n",
      "max:    3.99741747161\n",
      "\n",
      "IQR:    1.32701577024\n"
     ]
    }
   ],
   "source": [
    "show_percentiles()"
   ]
  },
  {
   "cell_type": "markdown",
   "metadata": {},
   "source": [
    "## Percentiles for the `LogNormal`"
   ]
  },
  {
   "cell_type": "code",
   "execution_count": 38,
   "metadata": {
    "collapsed": false
   },
   "outputs": [
    {
     "name": "stdout",
     "output_type": "stream",
     "text": [
      "\n",
      "min:    0.194056980332\n",
      "L-whis: -0.529092985502\n",
      "q1:     1.46143066985\n",
      "median  2.79094434494\n",
      "q3      5.07733358982\n",
      "U-whis: 7.06785724518\n",
      "max:    32.5726923189\n",
      "\n",
      "IQR:    1.32701577024\n"
     ]
    }
   ],
   "source": [
    "show_percentiles(\"logn\")"
   ]
  },
  {
   "cell_type": "markdown",
   "metadata": {},
   "source": [
    "## Percentiles for the `Exponential`"
   ]
  },
  {
   "cell_type": "code",
   "execution_count": 39,
   "metadata": {
    "collapsed": false
   },
   "outputs": [
    {
     "name": "stdout",
     "output_type": "stream",
     "text": [
      "\n",
      "min:    0.000874385318564\n",
      "L-whis: -1.70175263542\n",
      "q1:     0.288771019937\n",
      "median  0.73885193894\n",
      "q3      1.50765017798\n",
      "U-whis: 3.49817383333\n",
      "max:    4.83949345173\n",
      "\n",
      "IQR:    1.32701577024\n"
     ]
    }
   ],
   "source": [
    "show_percentiles(dist_name=\"expo\")"
   ]
  },
  {
   "cell_type": "markdown",
   "metadata": {},
   "source": [
    "# Percentiles and Outliers"
   ]
  },
  {
   "cell_type": "markdown",
   "metadata": {},
   "source": [
    "## Extracting percentiles and outliers"
   ]
  },
  {
   "cell_type": "code",
   "execution_count": 40,
   "metadata": {
    "collapsed": false
   },
   "outputs": [
    {
     "data": {
      "text/plain": [
       "array([-1.53645618,  0.30017884,  0.95105182,  1.62719461,  3.61505755])"
      ]
     },
     "execution_count": 40,
     "metadata": {},
     "output_type": "execute_result"
    }
   ],
   "source": [
    "perc = percentiles_df.loc['norm', :].values\n",
    "perc"
   ]
  },
  {
   "cell_type": "code",
   "execution_count": 42,
   "metadata": {
    "collapsed": false
   },
   "outputs": [
    {
     "data": {
      "text/plain": [
       "array([-1.71621774, -2.0231389 ,  3.99741747,  3.65833982,  3.87308106])"
      ]
     },
     "execution_count": 42,
     "metadata": {},
     "output_type": "execute_result"
    }
   ],
   "source": [
    "import numpy as np\n",
    "\n",
    "outl = outliers_df.loc[:, 'norm'].values\n",
    "outl = outl[~np.isnan(outl)]\n",
    "outl"
   ]
  },
  {
   "cell_type": "markdown",
   "metadata": {},
   "source": [
    "## A function: percentiles & outliers array"
   ]
  },
  {
   "cell_type": "code",
   "execution_count": 46,
   "metadata": {
    "collapsed": true
   },
   "outputs": [],
   "source": [
    "import numpy as np\n",
    "import itertools\n",
    "\n",
    "def merge_perc_outliers(dist_name='expo'):\n",
    "    perc = percentiles_df.loc[dist_name, :].values.tolist()\n",
    "    outl = outliers_df.loc[:, dist_name].values\n",
    "    outl = outl[~np.isnan(outl)]\n",
    "    \n",
    "    data_out = itertools.chain(*[perc])\n",
    "    data_out = list(data_out)\n",
    "    data_out.append(outl)\n",
    "    data_out = [data_out]\n",
    "    print(data_out)\n",
    "    # print(len(data_out))\n",
    "    return data_out"
   ]
  },
  {
   "cell_type": "markdown",
   "metadata": {},
   "source": [
    "## Plot percentiles and Outliers"
   ]
  },
  {
   "cell_type": "code",
   "execution_count": 47,
   "metadata": {
    "collapsed": false
   },
   "outputs": [
    {
     "name": "stdout",
     "output_type": "stream",
     "text": [
      "[[-1.5364561824407668, 0.30017883879657586, 0.9510518163986504, 1.627194609033019, 3.6150575508428693, array([-1.71621774, -2.0231389 ,  3.99741747,  3.65833982,  3.87308106])]]\n",
      "outliers arrays being fixed for variable 0\n"
     ]
    },
    {
     "data": {
      "image/png": "[encoded data removed]",
      "text/plain": [
       "<matplotlib.figure.Figure at 0x8887b90>"
      ]
     },
     "metadata": {},
     "output_type": "display_data"
    }
   ],
   "source": [
    "per_0 = merge_perc_outliers(dist_name='norm')\n",
    "per_0\n",
    "\n",
    "b = customized_box_plot(per_0, redraw=True, notch=0, sym='o', vert=1)"
   ]
  },
  {
   "cell_type": "markdown",
   "metadata": {},
   "source": [
    "## Combined boxplots for percentiles and distribution"
   ]
  },
  {
   "cell_type": "markdown",
   "metadata": {},
   "source": [
    "## Plot any distribution"
   ]
  },
  {
   "cell_type": "code",
   "execution_count": 56,
   "metadata": {
    "collapsed": false
   },
   "outputs": [],
   "source": [
    "def boxplot_distribution(dist_name='norm'):\n",
    "    import matplotlib.pyplot as plt\n",
    "    x = data_df[dist_name]\n",
    "\n",
    "    # The error bars indicate 1.5* the inter-quartile-range (IQR), and the box consists of the\n",
    "    # first, second (middle) and third quartile\n",
    "    plt.boxplot(x, sym='*', whis=1.5)          #: whis default value is 1.5\n",
    "    plt.title('raw data')\n",
    "    plt.ylabel('Values')"
   ]
  },
  {
   "cell_type": "code",
   "execution_count": 57,
   "metadata": {
    "collapsed": false
   },
   "outputs": [
    {
     "data": {
      "image/png": "[encoded data removed]",
      "text/plain": [
       "<matplotlib.figure.Figure at 0x86b5b50>"
      ]
     },
     "metadata": {},
     "output_type": "display_data"
    }
   ],
   "source": [
    "boxplot_distribution()"
   ]
  },
  {
   "cell_type": "markdown",
   "metadata": {},
   "source": [
    "### Plot percentiles/outliers and Distributions"
   ]
  },
  {
   "cell_type": "code",
   "execution_count": 62,
   "metadata": {
    "collapsed": true
   },
   "outputs": [],
   "source": [
    "def plot_both(dist_name='norm'):\n",
    "    per_0 = merge_perc_outliers(dist_name)\n",
    "    b = customized_box_plot(per_0, redraw=True, notch=0, sym='o', vert=1)\n",
    "    boxplot_distribution(dist_name)"
   ]
  },
  {
   "cell_type": "code",
   "execution_count": 63,
   "metadata": {
    "collapsed": false
   },
   "outputs": [
    {
     "name": "stdout",
     "output_type": "stream",
     "text": [
      "[[-1.5364561824407668, 0.27412367187108333, 0.874190220773382, 1.5924972167361549, 3.533840020821003, array([-2.0231389 , -2.0231389 , -1.71621774,  3.65833982,  3.99741747,\n",
      "        3.61505755])]]\n",
      "outliers arrays being fixed for variable 0\n"
     ]
    },
    {
     "data": {
      "image/png": "[encoded data removed]",
      "text/plain": [
       "<matplotlib.figure.Figure at 0x8b815b0>"
      ]
     },
     "metadata": {},
     "output_type": "display_data"
    },
    {
     "data": {
      "image/png": "[encoded data removed]",
      "text/plain": [
       "<matplotlib.figure.Figure at 0x8c2bd30>"
      ]
     },
     "metadata": {},
     "output_type": "display_data"
    }
   ],
   "source": [
    "plot_both(dist_name='norm_bs')"
   ]
  },
  {
   "cell_type": "markdown",
   "metadata": {},
   "source": [
    "## Plot combined LogNormal"
   ]
  },
  {
   "cell_type": "code",
   "execution_count": 64,
   "metadata": {
    "collapsed": false
   },
   "outputs": [
    {
     "name": "stdout",
     "output_type": "stream",
     "text": [
      "[[0.19405698033219734, 1.4614306698526085, 2.7909443449449447, 5.077333589820508, 10.405495191626963, array([ 13.34965575,  11.20386923,  26.77229609,  16.23283858,\n",
      "        15.14414748,  13.52070055,  13.29336908,  14.80216194,\n",
      "        14.07009024,  11.0530542 ,  32.57269232,  26.70876076,\n",
      "        12.25599026,  13.77100335,  12.76185192,  15.53305149,\n",
      "        17.72415461,  10.71883218,  11.64097131,  12.72226004,\n",
      "        10.75128195,  13.78857614,  10.83787431,  16.96749617,\n",
      "        13.77689348,  15.79019831,  26.9281414 ,  18.15055167,\n",
      "        18.7588332 ,  14.518236  ,  13.56524146,  11.01765864,\n",
      "        11.14188114,  14.93714977,  14.9757271 ,  10.63014604,\n",
      "        19.36354811,  17.42765612,  26.12290182,  14.68222579,\n",
      "        12.90920417,  22.85929865,  19.64187528,  24.23580033,  13.80488068])]]\n",
      "outliers arrays being fixed for variable 0\n"
     ]
    },
    {
     "data": {
      "image/png": "[encoded data removed]",
      "text/plain": [
       "<matplotlib.figure.Figure at 0x8b81bd0>"
      ]
     },
     "metadata": {},
     "output_type": "display_data"
    },
    {
     "data": {
      "image/png": "[encoded data removed]",
      "text/plain": [
       "<matplotlib.figure.Figure at 0x8943370>"
      ]
     },
     "metadata": {},
     "output_type": "display_data"
    }
   ],
   "source": [
    "plot_both(dist_name='logn')"
   ]
  },
  {
   "cell_type": "markdown",
   "metadata": {},
   "source": [
    "## Plot combined exponential"
   ]
  },
  {
   "cell_type": "code",
   "execution_count": 66,
   "metadata": {
    "collapsed": false
   },
   "outputs": [
    {
     "name": "stdout",
     "output_type": "stream",
     "text": [
      "[[0.0008743853185643853, 0.2887710199365847, 0.7388519389402455, 1.5076501779788725, 3.3156543149753093, array([ 4.6984617 ,  4.1090784 ,  4.3521881 ,  3.76239879,  3.35289481,\n",
      "        3.52379525,  3.75823679,  3.73336056,  3.91320399,  3.52185724,\n",
      "        4.46332529,  4.83949345,  3.43924036,  4.61837801,  3.53029566,\n",
      "        3.40557258,  4.25470651,  3.62684076])]]\n",
      "outliers arrays being fixed for variable 0\n"
     ]
    },
    {
     "data": {
      "image/png": "[encoded data removed]",
      "text/plain": [
       "<matplotlib.figure.Figure at 0x8ccbb10>"
      ]
     },
     "metadata": {},
     "output_type": "display_data"
    },
    {
     "data": {
      "image/png": "[encoded data removed]",
      "text/plain": [
       "<matplotlib.figure.Figure at 0x8b2b910>"
      ]
     },
     "metadata": {},
     "output_type": "display_data"
    }
   ],
   "source": [
    "plot_both(dist_name='expo')"
   ]
  },
  {
   "cell_type": "markdown",
   "metadata": {},
   "source": [
    "# Conclusions"
   ]
  },
  {
   "cell_type": "markdown",
   "metadata": {},
   "source": [
    "1. Both, distributions and summarized data (percentiles and outliers) give the same results when plotted and printed.\n",
    "\n",
    "2. Outliers are identical when the raw data of the distribution is plotted, as well as the percentiles and distributions.\n",
    "\n",
    "3. The whiskers or caps on the extremes of the boxplot are located at 1.5 times the IQR. This value `1.5` can be changed by means of the parameter `whis`.\n",
    "\n",
    "4. The distributions can be reproducible by adding a seed to the random generator.\n",
    "\n",
    "5. Dataframes are a very convenient way to visualize the data for the percentiles, outliers and the distribution raw data. The outliers represent a special case for the dataframes since not all the distributions generate the same nmber of outiers. A numpy function can be used to filter out the NaN values at the moment of selecting the outliers for any distribution.\n",
    "\n",
    "6. From all the distributions represented here the one yielding the least outliers is the trianguar distribution followed by the normal. Why?\n",
    "\n",
    "7. A pending matter is to debate if 1.5 times the IQR is a good limit for the outliers. Would that be acceptable in all distributions and for all kinds of data?\n",
    "\n",
    "8. The next notebook should be about the other ways to determine outliers. There is a good presentation about that.\n",
    "\n"
   ]
  },
  {
   "cell_type": "code",
   "execution_count": null,
   "metadata": {
    "collapsed": true
   },
   "outputs": [],
   "source": []
  }
 ],
 "metadata": {
  "anaconda-cloud": {},
  "kernelspec": {
   "display_name": "Python [conda env:py-27]",
   "language": "python",
   "name": "conda-env-py-27-py"
  },
  "language_info": {
   "codemirror_mode": {
    "name": "ipython",
    "version": 2
   },
   "file_extension": ".py",
   "mimetype": "text/x-python",
   "name": "python",
   "nbconvert_exporter": "python",
   "pygments_lexer": "ipython2",
   "version": "2.7.12"
  },
  "nav_menu": {
   "height": "331px",
   "width": "361px"
  },
  "toc": {
   "navigate_menu": true,
   "number_sections": true,
   "sideBar": false,
   "threshold": 6,
   "toc_cell": true,
   "toc_section_display": "none",
   "toc_window_display": true
  },
  "toc_position": {
   "height": "878px",
   "left": "862px",
   "right": "20px",
   "top": "122px",
   "width": "348px"
  }
 },
 "nbformat": 4,
 "nbformat_minor": 1
}
